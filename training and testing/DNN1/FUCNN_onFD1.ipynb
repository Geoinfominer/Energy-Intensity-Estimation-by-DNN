{
 "cells": [
  {
   "cell_type": "markdown",
   "metadata": {},
   "source": [
    "# this notebook was initially run on Google Colab"
   ]
  },
  {
   "cell_type": "code",
   "execution_count": 1,
   "metadata": {
    "colab": {
     "base_uri": "https://localhost:8080/"
    },
    "id": "s7iXTCDWwb9o",
    "outputId": "17389a88-f671-462f-f301-0ede36cad817"
   },
   "outputs": [
    {
     "name": "stdout",
     "output_type": "stream",
     "text": [
      "Wed Jan 27 03:23:10 2021       \n",
      "+-----------------------------------------------------------------------------+\n",
      "| NVIDIA-SMI 460.32.03    Driver Version: 418.67       CUDA Version: 10.1     |\n",
      "|-------------------------------+----------------------+----------------------+\n",
      "| GPU  Name        Persistence-M| Bus-Id        Disp.A | Volatile Uncorr. ECC |\n",
      "| Fan  Temp  Perf  Pwr:Usage/Cap|         Memory-Usage | GPU-Util  Compute M. |\n",
      "|                               |                      |               MIG M. |\n",
      "|===============================+======================+======================|\n",
      "|   0  Tesla P100-PCIE...  Off  | 00000000:00:04.0 Off |                    0 |\n",
      "| N/A   35C    P0    27W / 250W |      0MiB / 16280MiB |      0%      Default |\n",
      "|                               |                      |                 ERR! |\n",
      "+-------------------------------+----------------------+----------------------+\n",
      "                                                                               \n",
      "+-----------------------------------------------------------------------------+\n",
      "| Processes:                                                                  |\n",
      "|  GPU   GI   CI        PID   Type   Process name                  GPU Memory |\n",
      "|        ID   ID                                                   Usage      |\n",
      "|=============================================================================|\n",
      "|  No running processes found                                                 |\n",
      "+-----------------------------------------------------------------------------+\n"
     ]
    }
   ],
   "source": [
    "gpu_info = !nvidia-smi\n",
    "gpu_info = '\\n'.join(gpu_info)\n",
    "if gpu_info.find('failed') >= 0:\n",
    "  print('Select the Runtime > \"Change runtime type\" menu to enable a GPU accelerator, ')\n",
    "  print('and then re-execute this cell.')\n",
    "else:\n",
    "  print(gpu_info)"
   ]
  },
  {
   "cell_type": "markdown",
   "metadata": {},
   "source": [
    "# import libraries"
   ]
  },
  {
   "cell_type": "code",
   "execution_count": 4,
   "metadata": {
    "id": "xzJt75ybw4Rd"
   },
   "outputs": [],
   "source": [
    "'''\n",
    "import libraries\n",
    "'''\n",
    "import pandas as pd\n",
    "import numpy as np\n",
    "import matplotlib.pyplot as plt\n",
    "import tensorflow as tf\n",
    "from tensorflow import keras\n",
    "from keras.models import Model\n",
    "from tensorflow.keras.optimizers import Adam\n",
    "import os\n",
    "import random\n",
    "random.seed(0)\n",
    "tf.random.set_seed(0)\n",
    "np.random.seed(0)\n",
    "os.environ['PYTHONHASHSEED'] = str(0)"
   ]
  },
  {
   "cell_type": "markdown",
   "metadata": {},
   "source": [
    "# define variables"
   ]
  },
  {
   "cell_type": "code",
   "execution_count": 1,
   "metadata": {
    "id": "8vAP48UVw6B8"
   },
   "outputs": [],
   "source": [
    "features = ['lucc_0','lucc_1','lucc_2','lucc_3','lucc_4','lucc_5','b1','b2','b3','b4','b5','b6','b7','lst','ndvi','ntl','elevation','entropy','max_x','max_y','min_x','min_y']\n",
    "GeoFeas = ['lucc_0','lucc_1','lucc_2','lucc_3','lucc_4','lucc_5','b1','b2','b3','b4','b5','b6','b7','lst','ndvi','ntl','elevation','entropy']\n",
    "CoordFeas = ['max_x','max_y','min_x','min_y']\n",
    "years = list(range(2001,2018))\n",
    "provs30 = ['Qinghai','Guizhou','Guangxi','Xinjiang','Chongqing','Jilin','Sichuan','Hubei','Beijing',\n",
    "      'Liaoning','Heilongjiang','Shandong','Guangdong','Hebei','Henan','Hainan','Ningxia',\n",
    "      'Gansu','Neimenggu','Tianjin','Shanxi_jin','Yunnan','Fujian','Jiangxi','Anhui',\n",
    "      'Hunan','Jiangsu','Zhejiang','Shanghai','Shanxi_qin']\n",
    "dir_csv = '/boot/'"
   ]
  },
  {
   "cell_type": "markdown",
   "metadata": {},
   "source": [
    "# read data and preprocess"
   ]
  },
  {
   "cell_type": "code",
   "execution_count": 6,
   "metadata": {
    "id": "JM3Nb1l7w8H8"
   },
   "outputs": [],
   "source": [
    "'''\n",
    "read one fold(we use 4-fold cross validation)\n",
    "'''\n",
    "trainDf = pd.read_csv('/boot/fd1_TrainData.csv')\n",
    "devDf = pd.read_csv('/boot/fd1_TestData.csv')"
   ]
  },
  {
   "cell_type": "code",
   "execution_count": 8,
   "metadata": {
    "id": "_bTEF-QiyE9O"
   },
   "outputs": [],
   "source": [
    "''' convert into numpy '''\n",
    "def convert_fromDF_toNP(full_df_):\n",
    "  full_arr_ = full_df_[GeoFeas+['ei1000']].to_numpy()\n",
    "  return full_arr_"
   ]
  },
  {
   "cell_type": "code",
   "execution_count": 9,
   "metadata": {
    "id": "3TznJHlc954e"
   },
   "outputs": [],
   "source": [
    "train_arr = convert_fromDF_toNP(trainDf)\n",
    "dev_arr = convert_fromDF_toNP(devDf)"
   ]
  },
  {
   "cell_type": "code",
   "execution_count": 11,
   "metadata": {
    "colab": {
     "base_uri": "https://localhost:8080/",
     "height": 802
    },
    "id": "UGZM6Qvbb1D-",
    "outputId": "9085995e-1370-44e4-927d-5d12c8d60018"
   },
   "outputs": [
    {
     "data": {
      "image/png": "[encoded data removed]",
      "text/plain": [
       "<Figure size 2160x2880 with 19 Axes>"
      ]
     },
     "metadata": {
      "needs_background": "light",
      "tags": []
     },
     "output_type": "display_data"
    }
   ],
   "source": [
    "# show the distribution of the dev_arr dataset\n",
    "plt.figure(figsize=(30,40))\n",
    "for i in range(19): \n",
    "    ax = plt.subplot(7, 7, i + 1)\n",
    "    plt.hist(dev_arr[:,i],bins=40)\n",
    "    plt.title(devDf.columns[i+2])"
   ]
  },
  {
   "cell_type": "code",
   "execution_count": 12,
   "metadata": {
    "id": "68QoNJRwxeA-"
   },
   "outputs": [],
   "source": [
    "''' normalization '''\n",
    "def normalize_features(train_part,dev_part):\n",
    "  ''' !DON'T normalize ei1000 '''\n",
    "  ''' !DON'T normalize ei1000 '''\n",
    "  ''' !DON'T normalize ei1000 '''\n",
    "  '''\n",
    "  train_part and dev_part are numpy arr.\n",
    "  '''\n",
    "  # fit normalizer\n",
    "  '''\n",
    "  from sklearn.preprocessing import MinMaxScaler\n",
    "  scaler = MinMaxScaler()\n",
    "  scaler.fit(train_part[:,:-1])\n",
    "  '''\n",
    "  \n",
    "  from sklearn.preprocessing import PowerTransformer\n",
    "  scaler = PowerTransformer(method='yeo-johnson')\n",
    "  scaler.fit(train_part[:,:-1])\n",
    "  \n",
    "  '''\n",
    "  from sklearn.preprocessing import QuantileTransformer \n",
    "  scaler = QuantileTransformer(n_quantiles=len(train_part),output_distribution='normal', random_state=0) \n",
    "  scaler.fit(train_part[:,:-1])\n",
    "  '''\n",
    "  # transform\n",
    "  train_part[:,:-1] = scaler.transform(train_part[:,:-1])\n",
    "  dev_part[:,:-1] = scaler.transform(dev_part[:,:-1])\n",
    "\n",
    "  return train_part,dev_part,scaler"
   ]
  },
  {
   "cell_type": "code",
   "execution_count": 13,
   "metadata": {
    "colab": {
     "base_uri": "https://localhost:8080/"
    },
    "id": "640_5Zap5vCt",
    "outputId": "52ede134-7858-47b3-b44b-516b3a0d4c04"
   },
   "outputs": [
    {
     "name": "stderr",
     "output_type": "stream",
     "text": [
      "/usr/local/lib/python3.6/dist-packages/numpy/core/_methods.py:205: RuntimeWarning: overflow encountered in multiply\n",
      "  x = um.multiply(x, x, out=x)\n"
     ]
    }
   ],
   "source": [
    "train_arr,dev_arr,scaler = normalize_features(train_arr,dev_arr)"
   ]
  },
  {
   "cell_type": "code",
   "execution_count": 15,
   "metadata": {
    "colab": {
     "base_uri": "https://localhost:8080/",
     "height": 802
    },
    "id": "H34Gp_4kqY1s",
    "outputId": "888aa0ff-a9d1-4733-9e6c-ae21e08c175e"
   },
   "outputs": [
    {
     "data": {
      "image/png": "[encoded data removed]",
      "text/plain": [
       "<Figure size 2160x2880 with 19 Axes>"
      ]
     },
     "metadata": {
      "needs_background": "light",
      "tags": []
     },
     "output_type": "display_data"
    }
   ],
   "source": [
    "# show the distribution of the dev_part\n",
    "plt.figure(figsize=(30,40))\n",
    "for i in range(19): \n",
    "    ax = plt.subplot(7, 7, i + 1)\n",
    "    plt.hist(dev_arr[:,i],bins=40)\n",
    "    plt.title(devDf.columns[i+2])"
   ]
  },
  {
   "cell_type": "code",
   "execution_count": 16,
   "metadata": {
    "id": "n6b6aYeSxd1P"
   },
   "outputs": [],
   "source": [
    "''' convert into tf.data.Dataset '''\n",
    "def generateTFDataset(arr):\n",
    "  ''' arr contains features and labels '''\n",
    "  ds = tf.data.Dataset.from_tensor_slices(arr)\n",
    "  ds = ds.map(lambda ts:(ts[:-1],ts[-1]))\n",
    "  ds = ds.shuffle(510)\n",
    "  ds = ds.batch(510)\n",
    "  return ds"
   ]
  },
  {
   "cell_type": "code",
   "execution_count": 17,
   "metadata": {
    "id": "KGZNwWd6720l"
   },
   "outputs": [],
   "source": [
    "ds_train = generateTFDataset(train_arr)\n",
    "ds_dev = generateTFDataset(dev_arr)"
   ]
  },
  {
   "cell_type": "markdown",
   "metadata": {},
   "source": [
    "# define model"
   ]
  },
  {
   "cell_type": "code",
   "execution_count": 18,
   "metadata": {
    "id": "yTCPhFbpya6G"
   },
   "outputs": [],
   "source": [
    "''' build model '''\n",
    "def create_model(input_shape):\n",
    "  ''' input_shape,say,is (18,)  '''\n",
    "  # set seed=0 in the weight initializer\n",
    "  weight_init = tf.keras.initializers.GlorotUniform(seed = 0)\n",
    "\n",
    "  # input layer: corresponding to embedding matrix\n",
    "  x_input = keras.layers.Input(shape = input_shape)\n",
    "\n",
    "  # model body\n",
    "  x = keras.layers.Dense(32,activation = \"relu\", kernel_initializer=weight_init)(x_input)\n",
    "  x = keras.layers.Dense(32,activation = \"relu\", kernel_initializer=weight_init)(x)\n",
    "  x = keras.layers.Dense(16,activation = \"relu\", kernel_initializer=weight_init)(x)\n",
    "  x = keras.layers.Dense(8,activation = \"relu\", kernel_initializer=weight_init)(x)\n",
    "  x = keras.layers.Dense(8,activation = \"relu\", kernel_initializer=weight_init)(x)\n",
    "  x = keras.layers.Dense(1,activation = \"relu\", kernel_initializer=weight_init)(x)\n",
    "\n",
    "  # summary\n",
    "  model = Model(inputs = x_input, outputs = x)\n",
    "  return model"
   ]
  },
  {
   "cell_type": "code",
   "execution_count": 19,
   "metadata": {
    "id": "jG8fZZmBAjpO"
   },
   "outputs": [],
   "source": [
    "''' customizing metric R2 '''\n",
    "def R2(y_true, y_pred):\n",
    "  if type(y_true) == 'numpy.ndarray':\n",
    "    y_true = tf.constant(y_true)\n",
    "    y_pred = tf.constant(y_pred)\n",
    "  flat_ture = tf.reshape(y_true, [-1])\n",
    "  flat_prd = tf.reshape(y_pred, [-1])\n",
    "  RSS = tf.math.reduce_sum((tf.math.square(flat_ture - flat_prd)),axis=-1)\n",
    "  TSS = tf.math.reduce_sum(tf.math.square(flat_ture - tf.reduce_mean(flat_ture,axis=-1)))\n",
    "  return 1-RSS/TSS"
   ]
  },
  {
   "cell_type": "markdown",
   "metadata": {},
   "source": [
    "# run model"
   ]
  },
  {
   "cell_type": "code",
   "execution_count": 20,
   "metadata": {
    "id": "GqDBYYXyya3-"
   },
   "outputs": [],
   "source": [
    "''' run model '''\n",
    "def run_model(train_df_ = None, dev_df_ = None,lr_ = None,epo = None,checkpoint_path=None):\n",
    "\n",
    "  # convert into numpy\n",
    "  print('convert into numpy... ...')\n",
    "  train_arr = convert_fromDF_toNP(train_df_)\n",
    "  dev_arr = convert_fromDF_toNP(dev_df_)\n",
    "\n",
    "  # normalization\n",
    "  print('normalization... ...')\n",
    "  train_arr,dev_arr,scaler = normalize_features(train_arr,dev_arr)\n",
    "\n",
    "  # convert into tf.data.Dataset\n",
    "  print('convert into tf.data.Dataset... ...')\n",
    "  ds_train = generateTFDataset(train_arr)\n",
    "  ds_dev = generateTFDataset(dev_arr)\n",
    "\n",
    "  # build model\n",
    "  print('build model... ...')\n",
    "  model = create_model(train_arr.shape[1]-1)\n",
    "\n",
    "  # compile model\n",
    "  print('compile model... ...')\n",
    "  opt = Adam(lr=lr_) \n",
    "  model.compile(loss=tf.keras.losses.MeanSquaredError(), \n",
    "         optimizer=opt, \n",
    "         metrics=[tf.keras.metrics.RootMeanSquaredError(),R2])\n",
    "  model.summary()\n",
    "  cp_callback = tf.keras.callbacks.ModelCheckpoint(filepath=checkpoint_path,save_best_only=True, save_weights_only=True, verbose=0)\n",
    "  reduce_lr = tf.keras.callbacks.ReduceLROnPlateau(monitor='val_loss', \n",
    "                           factor=0.95, \n",
    "                           patience=15, \n",
    "                           verbose=1)\n",
    "\n",
    "  # fit model\n",
    "  history = model.fit(\n",
    "        ds_train,\n",
    "        epochs=epo,\n",
    "        validation_data=ds_dev,\n",
    "        callbacks=[cp_callback,reduce_lr],\n",
    "        verbose = 0)\n",
    "  \n",
    "  # reload best_model\n",
    "  bestModel = create_model(train_arr.shape[1]-1)\n",
    "  bestModel.compile(loss=tf.keras.losses.MeanSquaredError(), \n",
    "           optimizer=opt, \n",
    "           metrics=[tf.keras.metrics.RootMeanSquaredError(),R2])\n",
    "  bestModel.load_weights(checkpoint_path)\n",
    "\n",
    "  # return best_model and parameters\n",
    "  return {\n",
    "      'bestModel' : bestModel,\n",
    "      'history' : history,\n",
    "      'train_dev_set' : (train_arr,dev_arr),\n",
    "      'normalizer' : scaler\n",
    "      }"
   ]
  },
  {
   "cell_type": "code",
   "execution_count": 21,
   "metadata": {
    "colab": {
     "base_uri": "https://localhost:8080/"
    },
    "id": "SjsJuuvKCT-2",
    "outputId": "cf1d93c2-7b38-47ff-b059-4bafbc4199e6"
   },
   "outputs": [
    {
     "name": "stdout",
     "output_type": "stream",
     "text": [
      "convert into numpy... ...\n",
      "normalization... ...\n",
      "convert into tf.data.Dataset... ...\n",
      "build model... ...\n",
      "compile model... ...\n",
      "Model: \"model\"\n",
      "_________________________________________________________________\n",
      "Layer (type)                 Output Shape              Param #   \n",
      "=================================================================\n",
      "input_1 (InputLayer)         [(None, 18)]              0         \n",
      "_________________________________________________________________\n",
      "dense (Dense)                (None, 32)                608       \n",
      "_________________________________________________________________\n",
      "dense_1 (Dense)              (None, 32)                1056      \n",
      "_________________________________________________________________\n",
      "dense_2 (Dense)              (None, 16)                528       \n",
      "_________________________________________________________________\n",
      "dense_3 (Dense)              (None, 8)                 136       \n",
      "_________________________________________________________________\n",
      "dense_4 (Dense)              (None, 8)                 72        \n",
      "_________________________________________________________________\n",
      "dense_5 (Dense)              (None, 1)                 9         \n",
      "=================================================================\n",
      "Total params: 2,409\n",
      "Trainable params: 2,409\n",
      "Non-trainable params: 0\n",
      "_________________________________________________________________\n"
     ]
    },
    {
     "name": "stderr",
     "output_type": "stream",
     "text": [
      "/usr/local/lib/python3.6/dist-packages/numpy/core/_methods.py:205: RuntimeWarning: overflow encountered in multiply\n",
      "  x = um.multiply(x, x, out=x)\n"
     ]
    },
    {
     "name": "stdout",
     "output_type": "stream",
     "text": [
      "\n",
      "Epoch 02950: ReduceLROnPlateau reducing learning rate to 0.0009500000451225787.\n",
      "\n",
      "Epoch 03175: ReduceLROnPlateau reducing learning rate to 0.0009025000152178108.\n",
      "\n",
      "Epoch 03190: ReduceLROnPlateau reducing learning rate to 0.0008573750033974647.\n",
      "\n",
      "Epoch 03215: ReduceLROnPlateau reducing learning rate to 0.0008145062311086804.\n",
      "\n",
      "Epoch 03257: ReduceLROnPlateau reducing learning rate to 0.0007737808919046074.\n",
      "\n",
      "Epoch 03293: ReduceLROnPlateau reducing learning rate to 0.000735091819660738.\n",
      "\n",
      "Epoch 03308: ReduceLROnPlateau reducing learning rate to 0.0006983372120885178.\n",
      "\n",
      "Epoch 03323: ReduceLROnPlateau reducing learning rate to 0.0006634203542489559.\n",
      "\n",
      "Epoch 03340: ReduceLROnPlateau reducing learning rate to 0.0006302493420662358.\n",
      "\n",
      "Epoch 03355: ReduceLROnPlateau reducing learning rate to 0.0005987368611386045.\n",
      "\n",
      "Epoch 03370: ReduceLROnPlateau reducing learning rate to 0.0005688000208465382.\n",
      "\n",
      "Epoch 03385: ReduceLROnPlateau reducing learning rate to 0.0005403600225690752.\n",
      "\n",
      "Epoch 03400: ReduceLROnPlateau reducing learning rate to 0.0005133419937919825.\n",
      "\n",
      "Epoch 03484: ReduceLROnPlateau reducing learning rate to 0.0004876748775132.\n",
      "\n",
      "Epoch 03512: ReduceLROnPlateau reducing learning rate to 0.00046329112810781223.\n",
      "\n",
      "Epoch 03527: ReduceLROnPlateau reducing learning rate to 0.00044012657308485355.\n",
      "\n",
      "Epoch 03542: ReduceLROnPlateau reducing learning rate to 0.00041812024719547477.\n",
      "\n",
      "Epoch 03557: ReduceLROnPlateau reducing learning rate to 0.00039721422654110934.\n",
      "\n",
      "Epoch 03572: ReduceLROnPlateau reducing learning rate to 0.00037735351797891776.\n",
      "\n",
      "Epoch 03587: ReduceLROnPlateau reducing learning rate to 0.00035848583793267607.\n",
      "\n",
      "Epoch 03602: ReduceLROnPlateau reducing learning rate to 0.00034056155709549785.\n",
      "\n",
      "Epoch 03617: ReduceLROnPlateau reducing learning rate to 0.00032353347924072293.\n",
      "\n",
      "Epoch 03638: ReduceLROnPlateau reducing learning rate to 0.00030735681357327847.\n",
      "\n",
      "Epoch 03653: ReduceLROnPlateau reducing learning rate to 0.00029198898118920624.\n",
      "\n",
      "Epoch 03668: ReduceLROnPlateau reducing learning rate to 0.00027738953212974593.\n",
      "\n",
      "Epoch 03698: ReduceLROnPlateau reducing learning rate to 0.0002635200624354184.\n",
      "\n",
      "Epoch 03713: ReduceLROnPlateau reducing learning rate to 0.0002503440482541919.\n",
      "\n",
      "Epoch 03728: ReduceLROnPlateau reducing learning rate to 0.00023782684584148226.\n",
      "\n",
      "Epoch 03743: ReduceLROnPlateau reducing learning rate to 0.00022593549801968037.\n",
      "\n",
      "Epoch 03758: ReduceLROnPlateau reducing learning rate to 0.00021463872035383245.\n",
      "\n",
      "Epoch 03773: ReduceLROnPlateau reducing learning rate to 0.0002039067905570846.\n",
      "\n",
      "Epoch 03788: ReduceLROnPlateau reducing learning rate to 0.00019371145172044634.\n",
      "\n",
      "Epoch 03803: ReduceLROnPlateau reducing learning rate to 0.00018402588466415182.\n",
      "\n",
      "Epoch 03818: ReduceLROnPlateau reducing learning rate to 0.00017482458351878447.\n",
      "\n",
      "Epoch 03833: ReduceLROnPlateau reducing learning rate to 0.0001660833557252772.\n",
      "\n",
      "Epoch 03848: ReduceLROnPlateau reducing learning rate to 0.0001577791837917175.\n",
      "\n",
      "Epoch 03863: ReduceLROnPlateau reducing learning rate to 0.0001498902252933476.\n",
      "\n",
      "Epoch 03878: ReduceLROnPlateau reducing learning rate to 0.00014239571610232815.\n",
      "\n",
      "Epoch 03893: ReduceLROnPlateau reducing learning rate to 0.00013527592891477978.\n",
      "\n",
      "Epoch 03908: ReduceLROnPlateau reducing learning rate to 0.00012851213177782482.\n",
      "\n",
      "Epoch 03923: ReduceLROnPlateau reducing learning rate to 0.00012208651896798982.\n",
      "\n",
      "Epoch 03938: ReduceLROnPlateau reducing learning rate to 0.00011598219716688617.\n",
      "\n",
      "Epoch 03953: ReduceLROnPlateau reducing learning rate to 0.00011018308869097381.\n",
      "\n",
      "Epoch 03968: ReduceLROnPlateau reducing learning rate to 0.00010467393149156123.\n",
      "\n",
      "Epoch 03983: ReduceLROnPlateau reducing learning rate to 9.944023768184706e-05.\n",
      "\n",
      "Epoch 03998: ReduceLROnPlateau reducing learning rate to 9.446822441532275e-05.\n",
      "\n",
      "Epoch 04013: ReduceLROnPlateau reducing learning rate to 8.974481388577259e-05.\n",
      "\n",
      "Epoch 04028: ReduceLROnPlateau reducing learning rate to 8.525757111783605e-05.\n",
      "\n",
      "Epoch 04043: ReduceLROnPlateau reducing learning rate to 8.099469014268834e-05.\n",
      "\n",
      "Epoch 04058: ReduceLROnPlateau reducing learning rate to 7.694495252508204e-05.\n",
      "\n",
      "Epoch 04073: ReduceLROnPlateau reducing learning rate to 7.309770662686787e-05.\n",
      "\n",
      "Epoch 04088: ReduceLROnPlateau reducing learning rate to 6.944281922187656e-05.\n",
      "\n",
      "Epoch 04103: ReduceLROnPlateau reducing learning rate to 6.597067549591884e-05.\n",
      "\n",
      "Epoch 04118: ReduceLROnPlateau reducing learning rate to 6.267214448598679e-05.\n",
      "\n",
      "Epoch 04133: ReduceLROnPlateau reducing learning rate to 5.953853760729544e-05.\n",
      "\n",
      "Epoch 04148: ReduceLROnPlateau reducing learning rate to 5.656161210936261e-05.\n",
      "\n",
      "Epoch 04163: ReduceLROnPlateau reducing learning rate to 5.373353305913042e-05.\n",
      "\n",
      "Epoch 04178: ReduceLROnPlateau reducing learning rate to 5.104685606056591e-05.\n",
      "\n",
      "Epoch 04193: ReduceLROnPlateau reducing learning rate to 4.849451343034161e-05.\n",
      "\n",
      "Epoch 04208: ReduceLROnPlateau reducing learning rate to 4.606978654919658e-05.\n",
      "\n",
      "Epoch 04223: ReduceLROnPlateau reducing learning rate to 4.3766295493696814e-05.\n",
      "\n",
      "Epoch 04238: ReduceLROnPlateau reducing learning rate to 4.1577981755835934e-05.\n",
      "\n",
      "Epoch 04253: ReduceLROnPlateau reducing learning rate to 3.949908405047608e-05.\n",
      "\n",
      "Epoch 04268: ReduceLROnPlateau reducing learning rate to 3.752413140318822e-05.\n",
      "\n",
      "Epoch 04283: ReduceLROnPlateau reducing learning rate to 3.564792586985277e-05.\n",
      "\n",
      "Epoch 04298: ReduceLROnPlateau reducing learning rate to 3.3865528712340166e-05.\n",
      "\n",
      "Epoch 04313: ReduceLROnPlateau reducing learning rate to 3.217225348635111e-05.\n",
      "\n",
      "Epoch 04328: ReduceLROnPlateau reducing learning rate to 3.0563641848857516e-05.\n",
      "\n",
      "Epoch 04343: ReduceLROnPlateau reducing learning rate to 2.9035460102022626e-05.\n",
      "\n",
      "Epoch 04358: ReduceLROnPlateau reducing learning rate to 2.7583687096921494e-05.\n",
      "\n",
      "Epoch 04373: ReduceLROnPlateau reducing learning rate to 2.620450213726144e-05.\n",
      "\n",
      "Epoch 04388: ReduceLROnPlateau reducing learning rate to 2.4894276339182395e-05.\n",
      "\n",
      "Epoch 04403: ReduceLROnPlateau reducing learning rate to 2.3649562263017287e-05.\n",
      "\n",
      "Epoch 04418: ReduceLROnPlateau reducing learning rate to 2.2467083545052444e-05.\n",
      "\n",
      "Epoch 04433: ReduceLROnPlateau reducing learning rate to 2.134372971340781e-05.\n",
      "\n",
      "Epoch 04448: ReduceLROnPlateau reducing learning rate to 2.0276544091757387e-05.\n",
      "\n",
      "Epoch 04463: ReduceLROnPlateau reducing learning rate to 1.9262716887169517e-05.\n",
      "\n",
      "Epoch 04478: ReduceLROnPlateau reducing learning rate to 1.8299581734027014e-05.\n",
      "\n",
      "Epoch 04493: ReduceLROnPlateau reducing learning rate to 1.7384601869707693e-05.\n",
      "\n",
      "Epoch 04508: ReduceLROnPlateau reducing learning rate to 1.6515371862624305e-05.\n",
      "\n",
      "Epoch 04523: ReduceLROnPlateau reducing learning rate to 1.568960378790507e-05.\n",
      "\n",
      "Epoch 04538: ReduceLROnPlateau reducing learning rate to 1.490512377131381e-05.\n",
      "\n",
      "Epoch 04553: ReduceLROnPlateau reducing learning rate to 1.4159867669150115e-05.\n",
      "\n",
      "Epoch 04568: ReduceLROnPlateau reducing learning rate to 1.3451874156089615e-05.\n",
      "\n",
      "Epoch 04583: ReduceLROnPlateau reducing learning rate to 1.2779280405084136e-05.\n",
      "\n",
      "Epoch 04598: ReduceLROnPlateau reducing learning rate to 1.2140316039221942e-05.\n",
      "\n",
      "Epoch 04613: ReduceLROnPlateau reducing learning rate to 1.1533300539667834e-05.\n",
      "\n",
      "Epoch 04628: ReduceLROnPlateau reducing learning rate to 1.0956635469483444e-05.\n",
      "\n",
      "Epoch 04643: ReduceLROnPlateau reducing learning rate to 1.0408803609607275e-05.\n",
      "\n",
      "Epoch 04658: ReduceLROnPlateau reducing learning rate to 9.888363774734898e-06.\n",
      "\n",
      "Epoch 04673: ReduceLROnPlateau reducing learning rate to 9.393945629199151e-06.\n",
      "\n",
      "Epoch 04688: ReduceLROnPlateau reducing learning rate to 8.92424795893021e-06.\n",
      "\n",
      "Epoch 04703: ReduceLROnPlateau reducing learning rate to 8.478035215375711e-06.\n",
      "\n",
      "Epoch 04718: ReduceLROnPlateau reducing learning rate to 8.054133195400936e-06.\n",
      "\n",
      "Epoch 04733: ReduceLROnPlateau reducing learning rate to 7.651426449228893e-06.\n",
      "\n",
      "Epoch 04748: ReduceLROnPlateau reducing learning rate to 7.2688548243604595e-06.\n",
      "\n",
      "Epoch 04763: ReduceLROnPlateau reducing learning rate to 6.905412169544433e-06.\n",
      "\n",
      "Epoch 04778: ReduceLROnPlateau reducing learning rate to 6.5601415826677105e-06.\n",
      "\n",
      "Epoch 04793: ReduceLROnPlateau reducing learning rate to 6.2321345467353235e-06.\n",
      "\n",
      "Epoch 04808: ReduceLROnPlateau reducing learning rate to 5.920527905800554e-06.\n",
      "\n",
      "Epoch 04823: ReduceLROnPlateau reducing learning rate to 5.624501704915019e-06.\n",
      "\n",
      "Epoch 04838: ReduceLROnPlateau reducing learning rate to 5.343276598068769e-06.\n",
      "\n",
      "Epoch 04853: ReduceLROnPlateau reducing learning rate to 5.076112984170322e-06.\n",
      "\n",
      "Epoch 04868: ReduceLROnPlateau reducing learning rate to 4.8223071189568145e-06.\n",
      "\n",
      "Epoch 04883: ReduceLROnPlateau reducing learning rate to 4.581191979013965e-06.\n",
      "\n",
      "Epoch 04898: ReduceLROnPlateau reducing learning rate to 4.352132509666262e-06.\n",
      "\n",
      "Epoch 04913: ReduceLROnPlateau reducing learning rate to 4.134526056986942e-06.\n",
      "\n",
      "Epoch 04928: ReduceLROnPlateau reducing learning rate to 3.927799775738094e-06.\n",
      "\n",
      "Epoch 04943: ReduceLROnPlateau reducing learning rate to 3.7314097653506904e-06.\n",
      "\n",
      "Epoch 04958: ReduceLROnPlateau reducing learning rate to 3.5448393418846533e-06.\n",
      "\n",
      "Epoch 04973: ReduceLROnPlateau reducing learning rate to 3.3675973099889233e-06.\n",
      "\n",
      "Epoch 04988: ReduceLROnPlateau reducing learning rate to 3.199217530891474e-06.\n",
      "\n",
      "Epoch 05003: ReduceLROnPlateau reducing learning rate to 3.039256762349396e-06.\n",
      "\n",
      "Epoch 05018: ReduceLROnPlateau reducing learning rate to 2.887294010633923e-06.\n",
      "\n",
      "Epoch 05033: ReduceLROnPlateau reducing learning rate to 2.7429292345004796e-06.\n",
      "\n",
      "Epoch 05048: ReduceLROnPlateau reducing learning rate to 2.6057826971737086e-06.\n",
      "\n",
      "Epoch 05063: ReduceLROnPlateau reducing learning rate to 2.4754936703175187e-06.\n",
      "\n",
      "Epoch 05078: ReduceLROnPlateau reducing learning rate to 2.3517189220001454e-06.\n",
      "\n",
      "Epoch 05093: ReduceLROnPlateau reducing learning rate to 2.2341329326991397e-06.\n",
      "\n",
      "Epoch 05108: ReduceLROnPlateau reducing learning rate to 2.122426383266429e-06.\n",
      "\n",
      "Epoch 05123: ReduceLROnPlateau reducing learning rate to 2.0163050749033573e-06.\n",
      "\n",
      "Epoch 05138: ReduceLROnPlateau reducing learning rate to 1.915489929160685e-06.\n",
      "\n",
      "Epoch 05153: ReduceLROnPlateau reducing learning rate to 1.8197154759036493e-06.\n",
      "\n",
      "Epoch 05168: ReduceLROnPlateau reducing learning rate to 1.728729745309465e-06.\n",
      "\n",
      "Epoch 05183: ReduceLROnPlateau reducing learning rate to 1.6422932958448655e-06.\n",
      "\n",
      "Epoch 05198: ReduceLROnPlateau reducing learning rate to 1.5601786742536206e-06.\n",
      "\n",
      "Epoch 05213: ReduceLROnPlateau reducing learning rate to 1.4821697675415633e-06.\n",
      "\n",
      "Epoch 05228: ReduceLROnPlateau reducing learning rate to 1.408061262964111e-06.\n",
      "\n",
      "Epoch 05243: ReduceLROnPlateau reducing learning rate to 1.3376582160162797e-06.\n",
      "\n",
      "Epoch 05258: ReduceLROnPlateau reducing learning rate to 1.2707752944152161e-06.\n",
      "\n",
      "Epoch 05273: ReduceLROnPlateau reducing learning rate to 1.207236562095204e-06.\n",
      "\n",
      "Epoch 05288: ReduceLROnPlateau reducing learning rate to 1.1468747231901943e-06.\n",
      "\n",
      "Epoch 05303: ReduceLROnPlateau reducing learning rate to 1.0895310140313086e-06.\n",
      "\n",
      "Epoch 05318: ReduceLROnPlateau reducing learning rate to 1.0350544471293687e-06.\n",
      "\n",
      "Epoch 05333: ReduceLROnPlateau reducing learning rate to 9.833017031724012e-07.\n",
      "\n",
      "Epoch 05348: ReduceLROnPlateau reducing learning rate to 9.341365910131571e-07.\n",
      "\n",
      "Epoch 05363: ReduceLROnPlateau reducing learning rate to 8.874297776628737e-07.\n",
      "\n",
      "Epoch 05378: ReduceLROnPlateau reducing learning rate to 8.43058302280042e-07.\n",
      "\n",
      "Epoch 05393: ReduceLROnPlateau reducing learning rate to 8.009053601654159e-07.\n",
      "\n",
      "Epoch 05408: ReduceLROnPlateau reducing learning rate to 7.608600867570203e-07.\n",
      "\n",
      "Epoch 05423: ReduceLROnPlateau reducing learning rate to 7.228170716189196e-07.\n",
      "\n",
      "Epoch 05438: ReduceLROnPlateau reducing learning rate to 6.866761964374745e-07.\n",
      "\n",
      "Epoch 05453: ReduceLROnPlateau reducing learning rate to 6.523423650151017e-07.\n",
      "\n",
      "Epoch 05468: ReduceLROnPlateau reducing learning rate to 6.197252332640346e-07.\n",
      "\n",
      "Epoch 05483: ReduceLROnPlateau reducing learning rate to 5.887389932013321e-07.\n",
      "\n",
      "Epoch 05498: ReduceLROnPlateau reducing learning rate to 5.593020489413902e-07.\n",
      "\n",
      "Epoch 05513: ReduceLROnPlateau reducing learning rate to 5.313369626946951e-07.\n",
      "\n",
      "Epoch 05528: ReduceLROnPlateau reducing learning rate to 5.047701307603347e-07.\n",
      "\n",
      "Epoch 05543: ReduceLROnPlateau reducing learning rate to 4.795316215222556e-07.\n",
      "\n",
      "Epoch 05558: ReduceLROnPlateau reducing learning rate to 4.5555506744676677e-07.\n",
      "\n",
      "Epoch 05573: ReduceLROnPlateau reducing learning rate to 4.327773140744284e-07.\n",
      "\n",
      "Epoch 05588: ReduceLROnPlateau reducing learning rate to 4.111384470206758e-07.\n",
      "\n",
      "Epoch 05603: ReduceLROnPlateau reducing learning rate to 3.905815219695796e-07.\n",
      "\n",
      "Epoch 05618: ReduceLROnPlateau reducing learning rate to 3.710524566713502e-07.\n",
      "\n",
      "Epoch 05633: ReduceLROnPlateau reducing learning rate to 3.524998419379699e-07.\n",
      "\n",
      "Epoch 05648: ReduceLROnPlateau reducing learning rate to 3.3487486064132097e-07.\n",
      "\n",
      "Epoch 05663: ReduceLROnPlateau reducing learning rate to 3.1813112570944214e-07.\n",
      "\n",
      "Epoch 05678: ReduceLROnPlateau reducing learning rate to 3.022245721240324e-07.\n",
      "\n",
      "Epoch 05693: ReduceLROnPlateau reducing learning rate to 2.871133489179556e-07.\n",
      "\n",
      "Epoch 05708: ReduceLROnPlateau reducing learning rate to 2.727576841721202e-07.\n",
      "\n",
      "Epoch 05723: ReduceLROnPlateau reducing learning rate to 2.591198040136078e-07.\n",
      "\n",
      "Epoch 05738: ReduceLROnPlateau reducing learning rate to 2.46163824613177e-07.\n",
      "\n",
      "Epoch 05753: ReduceLROnPlateau reducing learning rate to 2.3385564418276772e-07.\n",
      "\n",
      "Epoch 05768: ReduceLROnPlateau reducing learning rate to 2.2216286197362933e-07.\n",
      "\n",
      "Epoch 05783: ReduceLROnPlateau reducing learning rate to 2.1105472427507264e-07.\n",
      "\n",
      "Epoch 05798: ReduceLROnPlateau reducing learning rate to 2.005019894113502e-07.\n",
      "\n",
      "Epoch 05813: ReduceLROnPlateau reducing learning rate to 1.904768872407203e-07.\n",
      "\n",
      "Epoch 05828: ReduceLROnPlateau reducing learning rate to 1.809530381535751e-07.\n",
      "\n",
      "Epoch 05843: ReduceLROnPlateau reducing learning rate to 1.7190538557088075e-07.\n",
      "\n",
      "Epoch 05858: ReduceLROnPlateau reducing learning rate to 1.633101149423055e-07.\n",
      "\n",
      "Epoch 05873: ReduceLROnPlateau reducing learning rate to 1.5514461324528383e-07.\n",
      "\n",
      "Epoch 05888: ReduceLROnPlateau reducing learning rate to 1.4738738798314444e-07.\n",
      "\n",
      "Epoch 05903: ReduceLROnPlateau reducing learning rate to 1.4001801318386242e-07.\n",
      "\n",
      "Epoch 05918: ReduceLROnPlateau reducing learning rate to 1.330171158997473e-07.\n",
      "\n",
      "Epoch 05933: ReduceLROnPlateau reducing learning rate to 1.2636625470463514e-07.\n",
      "\n",
      "Epoch 05948: ReduceLROnPlateau reducing learning rate to 1.2004794669451258e-07.\n",
      "\n",
      "Epoch 05963: ReduceLROnPlateau reducing learning rate to 1.1404554598470895e-07.\n",
      "\n",
      "Epoch 05978: ReduceLROnPlateau reducing learning rate to 1.0834327071052029e-07.\n",
      "\n",
      "Epoch 05993: ReduceLROnPlateau reducing learning rate to 1.0292610852502548e-07.\n",
      "\n",
      "Epoch 06008: ReduceLROnPlateau reducing learning rate to 9.77798030987742e-08.\n",
      "\n",
      "Epoch 06023: ReduceLROnPlateau reducing learning rate to 9.289081361885109e-08.\n",
      "\n",
      "Epoch 06038: ReduceLROnPlateau reducing learning rate to 8.824627428793974e-08.\n",
      "\n",
      "Epoch 06053: ReduceLROnPlateau reducing learning rate to 8.383396057354275e-08.\n",
      "\n",
      "Epoch 06068: ReduceLROnPlateau reducing learning rate to 7.964226220735781e-08.\n",
      "\n",
      "Epoch 06083: ReduceLROnPlateau reducing learning rate to 7.566014943449773e-08.\n",
      "\n",
      "Epoch 06098: ReduceLROnPlateau reducing learning rate to 7.187713926271044e-08.\n",
      "\n",
      "Epoch 06113: ReduceLROnPlateau reducing learning rate to 6.828328196206712e-08.\n",
      "\n",
      "Epoch 06128: ReduceLROnPlateau reducing learning rate to 6.486912056402616e-08.\n",
      "\n",
      "Epoch 06143: ReduceLROnPlateau reducing learning rate to 6.162566386080926e-08.\n",
      "\n",
      "Epoch 06158: ReduceLROnPlateau reducing learning rate to 5.854437965524539e-08.\n",
      "\n",
      "Epoch 06173: ReduceLROnPlateau reducing learning rate to 5.561716100999092e-08.\n",
      "\n",
      "Epoch 06188: ReduceLROnPlateau reducing learning rate to 5.2836302621983573e-08.\n",
      "\n",
      "Epoch 06203: ReduceLROnPlateau reducing learning rate to 5.0194487322130494e-08.\n",
      "\n",
      "Epoch 06218: ReduceLROnPlateau reducing learning rate to 4.768476244976227e-08.\n",
      "\n",
      "Epoch 06233: ReduceLROnPlateau reducing learning rate to 4.530052297724296e-08.\n",
      "\n",
      "Epoch 06248: ReduceLROnPlateau reducing learning rate to 4.303549800965811e-08.\n",
      "\n",
      "Epoch 06263: ReduceLROnPlateau reducing learning rate to 4.0883723784190804e-08.\n",
      "\n",
      "Epoch 06278: ReduceLROnPlateau reducing learning rate to 3.883953691996567e-08.\n",
      "\n",
      "Epoch 06293: ReduceLROnPlateau reducing learning rate to 3.689756091773688e-08.\n",
      "\n",
      "Epoch 06308: ReduceLROnPlateau reducing learning rate to 3.505268253434224e-08.\n",
      "\n",
      "Epoch 06323: ReduceLROnPlateau reducing learning rate to 3.3300048407625126e-08.\n",
      "\n",
      "Epoch 06338: ReduceLROnPlateau reducing learning rate to 3.163504480596657e-08.\n",
      "\n",
      "Epoch 06353: ReduceLROnPlateau reducing learning rate to 3.005329425320724e-08.\n",
      "\n",
      "Epoch 06368: ReduceLROnPlateau reducing learning rate to 2.855062852802348e-08.\n",
      "\n",
      "Epoch 06383: ReduceLROnPlateau reducing learning rate to 2.7123097101622307e-08.\n",
      "\n",
      "Epoch 06398: ReduceLROnPlateau reducing learning rate to 2.576694182465644e-08.\n",
      "\n",
      "Epoch 06413: ReduceLROnPlateau reducing learning rate to 2.4478595239685317e-08.\n",
      "\n",
      "Epoch 06428: ReduceLROnPlateau reducing learning rate to 2.32546653933241e-08.\n",
      "\n",
      "Epoch 06443: ReduceLROnPlateau reducing learning rate to 2.2091932461165697e-08.\n",
      "\n",
      "Epoch 06458: ReduceLROnPlateau reducing learning rate to 2.0987335247468764e-08.\n",
      "\n",
      "Epoch 06473: ReduceLROnPlateau reducing learning rate to 1.9937967810079724e-08.\n",
      "\n",
      "Epoch 06488: ReduceLROnPlateau reducing learning rate to 1.894106933519879e-08.\n",
      "\n",
      "Epoch 06503: ReduceLROnPlateau reducing learning rate to 1.799401569968495e-08.\n",
      "\n",
      "Epoch 06518: ReduceLROnPlateau reducing learning rate to 1.7094314408439004e-08.\n",
      "\n",
      "Epoch 06533: ReduceLROnPlateau reducing learning rate to 1.623959953178655e-08.\n",
      "\n",
      "Epoch 06548: ReduceLROnPlateau reducing learning rate to 1.5427619892705025e-08.\n",
      "\n",
      "Epoch 06563: ReduceLROnPlateau reducing learning rate to 1.4656239066823672e-08.\n",
      "\n",
      "Epoch 06578: ReduceLROnPlateau reducing learning rate to 1.392342694472859e-08.\n",
      "\n",
      "Epoch 06593: ReduceLROnPlateau reducing learning rate to 1.322725551311521e-08.\n",
      "\n",
      "Epoch 06608: ReduceLROnPlateau reducing learning rate to 1.2565892948401824e-08.\n",
      "\n",
      "Epoch 06623: ReduceLROnPlateau reducing learning rate to 1.1937598554112583e-08.\n",
      "\n",
      "Epoch 06638: ReduceLROnPlateau reducing learning rate to 1.1340718542030003e-08.\n",
      "\n",
      "Epoch 06653: ReduceLROnPlateau reducing learning rate to 1.0773682657116978e-08.\n",
      "\n",
      "Epoch 06668: ReduceLROnPlateau reducing learning rate to 1.023499827113028e-08.\n",
      "\n",
      "Epoch 06683: ReduceLROnPlateau reducing learning rate to 9.723248695081565e-09.\n",
      "\n",
      "Epoch 06698: ReduceLROnPlateau reducing learning rate to 9.237086429081387e-09.\n",
      "\n",
      "Epoch 06713: ReduceLROnPlateau reducing learning rate to 8.775232318569692e-09.\n",
      "\n",
      "Epoch 06728: ReduceLROnPlateau reducing learning rate to 8.336470491698833e-09.\n",
      "\n",
      "Epoch 06743: ReduceLROnPlateau reducing learning rate to 7.919646671794566e-09.\n",
      "\n",
      "Epoch 06758: ReduceLROnPlateau reducing learning rate to 7.523663958508563e-09.\n",
      "\n",
      "Epoch 06773: ReduceLROnPlateau reducing learning rate to 7.14748114027941e-09.\n",
      "\n",
      "Epoch 06788: ReduceLROnPlateau reducing learning rate to 6.790107209830864e-09.\n",
      "\n",
      "Epoch 06803: ReduceLROnPlateau reducing learning rate to 6.450601786056608e-09.\n",
      "\n",
      "Epoch 06818: ReduceLROnPlateau reducing learning rate to 6.128071738942253e-09.\n",
      "\n",
      "Epoch 06833: ReduceLROnPlateau reducing learning rate to 5.82166823637209e-09.\n",
      "\n",
      "Epoch 06848: ReduceLROnPlateau reducing learning rate to 5.5305846347053486e-09.\n",
      "\n",
      "Epoch 06863: ReduceLROnPlateau reducing learning rate to 5.254055213121944e-09.\n",
      "\n",
      "Epoch 06878: ReduceLROnPlateau reducing learning rate to 4.991352642313984e-09.\n",
      "\n",
      "Epoch 06893: ReduceLROnPlateau reducing learning rate to 4.741785031292523e-09.\n",
      "\n",
      "Epoch 06908: ReduceLROnPlateau reducing learning rate to 4.504695927387558e-09.\n",
      "\n",
      "Epoch 06923: ReduceLROnPlateau reducing learning rate to 4.279460941170043e-09.\n",
      "\n",
      "Epoch 06938: ReduceLROnPlateau reducing learning rate to 4.0654877464518786e-09.\n",
      "\n",
      "Epoch 06953: ReduceLROnPlateau reducing learning rate to 3.862213548977422e-09.\n",
      "\n",
      "Epoch 06968: ReduceLROnPlateau reducing learning rate to 3.6691029769997383e-09.\n",
      "\n",
      "Epoch 06983: ReduceLROnPlateau reducing learning rate to 3.4856478703382264e-09.\n",
      "\n",
      "Epoch 06998: ReduceLROnPlateau reducing learning rate to 3.3113653818972463e-09.\n",
      "\n",
      "Epoch 07013: ReduceLROnPlateau reducing learning rate to 3.1457971338966215e-09.\n",
      "\n",
      "Epoch 07028: ReduceLROnPlateau reducing learning rate to 2.9885073193902654e-09.\n",
      "\n",
      "Epoch 07043: ReduceLROnPlateau reducing learning rate to 2.8390818584966837e-09.\n",
      "\n",
      "Epoch 07058: ReduceLROnPlateau reducing learning rate to 2.6971277655718494e-09.\n",
      "\n",
      "Epoch 07073: ReduceLROnPlateau reducing learning rate to 2.5622714616702067e-09.\n",
      "\n",
      "Epoch 07088: ReduceLROnPlateau reducing learning rate to 2.4341579307751715e-09.\n",
      "\n",
      "Epoch 07103: ReduceLROnPlateau reducing learning rate to 2.3124500869720065e-09.\n",
      "\n",
      "Epoch 07118: ReduceLROnPlateau reducing learning rate to 2.196827508793575e-09.\n",
      "\n",
      "Epoch 07133: ReduceLROnPlateau reducing learning rate to 2.086986228277965e-09.\n",
      "\n",
      "Epoch 07148: ReduceLROnPlateau reducing learning rate to 1.982636832487117e-09.\n",
      "\n",
      "Epoch 07163: ReduceLROnPlateau reducing learning rate to 1.8835048853915738e-09.\n",
      "\n",
      "Epoch 07178: ReduceLROnPlateau reducing learning rate to 1.7893296622162323e-09.\n",
      "\n",
      "Epoch 07193: ReduceLROnPlateau reducing learning rate to 1.6998632001996582e-09.\n",
      "\n",
      "Epoch 07208: ReduceLROnPlateau reducing learning rate to 1.6148700876517095e-09.\n",
      "\n",
      "Epoch 07223: ReduceLROnPlateau reducing learning rate to 1.5341266201840396e-09.\n",
      "\n",
      "Epoch 07238: ReduceLROnPlateau reducing learning rate to 1.4574202733541596e-09.\n",
      "\n",
      "Epoch 07253: ReduceLROnPlateau reducing learning rate to 1.3845492807806892e-09.\n",
      "\n",
      "Epoch 07268: ReduceLROnPlateau reducing learning rate to 1.3153217903738578e-09.\n",
      "\n",
      "Epoch 07283: ReduceLROnPlateau reducing learning rate to 1.2495556533931307e-09.\n",
      "\n",
      "Epoch 07298: ReduceLROnPlateau reducing learning rate to 1.187077897091271e-09.\n",
      "\n",
      "Epoch 07313: ReduceLROnPlateau reducing learning rate to 1.1277239864160294e-09.\n",
      "\n",
      "Epoch 07328: ReduceLROnPlateau reducing learning rate to 1.0713378240101434e-09.\n",
      "\n",
      "Epoch 07343: ReduceLROnPlateau reducing learning rate to 1.0177709064418394e-09.\n",
      "\n",
      "Epoch 07358: ReduceLROnPlateau reducing learning rate to 9.668823242048319e-10.\n",
      "\n",
      "Epoch 07373: ReduceLROnPlateau reducing learning rate to 9.185382343623871e-10.\n",
      "\n",
      "Epoch 07388: ReduceLROnPlateau reducing learning rate to 8.726113331913864e-10.\n",
      "\n",
      "Epoch 07403: ReduceLROnPlateau reducing learning rate to 8.289807507111391e-10.\n",
      "\n",
      "Epoch 07418: ReduceLROnPlateau reducing learning rate to 7.875317342698196e-10.\n",
      "\n",
      "Epoch 07433: ReduceLROnPlateau reducing learning rate to 7.481551211885318e-10.\n",
      "\n",
      "Epoch 07448: ReduceLROnPlateau reducing learning rate to 7.107473387613083e-10.\n",
      "\n",
      "Epoch 07463: ReduceLROnPlateau reducing learning rate to 6.752099823703616e-10.\n",
      "\n",
      "Epoch 07478: ReduceLROnPlateau reducing learning rate to 6.414494990725217e-10.\n",
      "\n",
      "Epoch 07493: ReduceLROnPlateau reducing learning rate to 6.09377029392455e-10.\n",
      "\n",
      "Epoch 07508: ReduceLROnPlateau reducing learning rate to 5.7890819638029e-10.\n",
      "\n",
      "Epoch 07523: ReduceLROnPlateau reducing learning rate to 5.499627891980552e-10.\n",
      "\n",
      "Epoch 07538: ReduceLROnPlateau reducing learning rate to 5.224646576484914e-10.\n",
      "\n",
      "Epoch 07553: ReduceLROnPlateau reducing learning rate to 4.963414484970841e-10.\n",
      "\n",
      "Epoch 07568: ReduceLROnPlateau reducing learning rate to 4.715243945296876e-10.\n",
      "\n",
      "Epoch 07583: ReduceLROnPlateau reducing learning rate to 4.4794815634574545e-10.\n",
      "\n",
      "Epoch 07598: ReduceLROnPlateau reducing learning rate to 4.255507432548988e-10.\n",
      "\n",
      "Epoch 07613: ReduceLROnPlateau reducing learning rate to 4.04273196863425e-10.\n",
      "\n",
      "Epoch 07628: ReduceLROnPlateau reducing learning rate to 3.8405953833864355e-10.\n",
      "\n",
      "Epoch 07643: ReduceLROnPlateau reducing learning rate to 3.648565574665419e-10.\n",
      "\n",
      "Epoch 07658: ReduceLROnPlateau reducing learning rate to 3.466137335483843e-10.\n",
      "\n",
      "Epoch 07673: ReduceLROnPlateau reducing learning rate to 3.292830508261346e-10.\n",
      "\n",
      "Epoch 07688: ReduceLROnPlateau reducing learning rate to 3.1281889301126854e-10.\n",
      "\n",
      "Epoch 07703: ReduceLROnPlateau reducing learning rate to 2.9717793781358636e-10.\n",
      "\n",
      "Epoch 07718: ReduceLROnPlateau reducing learning rate to 2.8231905147002575e-10.\n",
      "\n",
      "Epoch 07733: ReduceLROnPlateau reducing learning rate to 2.6820310417008384e-10.\n",
      "\n",
      "Epoch 07748: ReduceLROnPlateau reducing learning rate to 2.547929436880203e-10.\n",
      "\n",
      "Epoch 07763: ReduceLROnPlateau reducing learning rate to 2.4205328991167007e-10.\n",
      "\n",
      "Epoch 07778: ReduceLROnPlateau reducing learning rate to 2.299506293712561e-10.\n",
      "\n",
      "Epoch 07793: ReduceLROnPlateau reducing learning rate to 2.1845309658430344e-10.\n",
      "\n",
      "Epoch 07808: ReduceLROnPlateau reducing learning rate to 2.0753044768784257e-10.\n",
      "\n",
      "Epoch 07823: ReduceLROnPlateau reducing learning rate to 1.9715392859942504e-10.\n",
      "\n",
      "Epoch 07838: ReduceLROnPlateau reducing learning rate to 1.872962354654284e-10.\n",
      "\n",
      "Epoch 07853: ReduceLROnPlateau reducing learning rate to 1.7793142237376712e-10.\n",
      "\n",
      "Epoch 07868: ReduceLROnPlateau reducing learning rate to 1.690348486182991e-10.\n",
      "\n",
      "Epoch 07883: ReduceLROnPlateau reducing learning rate to 1.6058309959543491e-10.\n",
      "\n",
      "Epoch 07898: ReduceLROnPlateau reducing learning rate to 1.5255394725244287e-10.\n",
      "\n",
      "Epoch 07913: ReduceLROnPlateau reducing learning rate to 1.4492624461626136e-10.\n",
      "\n",
      "Epoch 07928: ReduceLROnPlateau reducing learning rate to 1.3767992579349907e-10.\n",
      "\n",
      "Epoch 07943: ReduceLROnPlateau reducing learning rate to 1.3079592686704443e-10.\n",
      "\n",
      "Epoch 07958: ReduceLROnPlateau reducing learning rate to 1.242561331604719e-10.\n",
      "\n",
      "Epoch 07973: ReduceLROnPlateau reducing learning rate to 1.180433265024483e-10.\n",
      "\n",
      "Epoch 07988: ReduceLROnPlateau reducing learning rate to 1.1214115885893605e-10.\n",
      "\n",
      "Epoch 08003: ReduceLROnPlateau reducing learning rate to 1.065340995975994e-10.\n",
      "\n",
      "Epoch 08018: ReduceLROnPlateau reducing learning rate to 1.0120739593610927e-10.\n",
      "\n",
      "Epoch 08033: ReduceLROnPlateau reducing learning rate to 9.614702679849873e-11.\n",
      "\n",
      "Epoch 08048: ReduceLROnPlateau reducing learning rate to 9.133967644736617e-11.\n",
      "\n",
      "Epoch 08063: ReduceLROnPlateau reducing learning rate to 8.67726949321801e-11.\n",
      "\n",
      "Epoch 08078: ReduceLROnPlateau reducing learning rate to 8.243405853758378e-11.\n",
      "\n",
      "Epoch 08093: ReduceLROnPlateau reducing learning rate to 7.831235659949698e-11.\n",
      "\n",
      "Epoch 08108: ReduceLROnPlateau reducing learning rate to 7.439673876952213e-11.\n",
      "\n",
      "Epoch 08123: ReduceLROnPlateau reducing learning rate to 7.067690183104602e-11.\n",
      "\n",
      "Epoch 08138: ReduceLROnPlateau reducing learning rate to 6.714305673949372e-11.\n",
      "\n",
      "Epoch 08153: ReduceLROnPlateau reducing learning rate to 6.378590225453173e-11.\n",
      "\n",
      "Epoch 08168: ReduceLROnPlateau reducing learning rate to 6.059660516422039e-11.\n",
      "\n",
      "Epoch 08183: ReduceLROnPlateau reducing learning rate to 5.756677391721698e-11.\n",
      "\n",
      "Epoch 08198: ReduceLROnPlateau reducing learning rate to 5.4688435550953594e-11.\n",
      "\n",
      "Epoch 08213: ReduceLROnPlateau reducing learning rate to 5.19540126198148e-11.\n",
      "\n",
      "Epoch 08228: ReduceLROnPlateau reducing learning rate to 4.9356313307213906e-11.\n",
      "\n",
      "Epoch 08243: ReduceLROnPlateau reducing learning rate to 4.688849846584686e-11.\n",
      "\n",
      "Epoch 08258: ReduceLROnPlateau reducing learning rate to 4.454407502574309e-11.\n",
      "\n",
      "Epoch 08273: ReduceLROnPlateau reducing learning rate to 4.2316872922443236e-11.\n",
      "\n",
      "Epoch 08288: ReduceLROnPlateau reducing learning rate to 4.0201028617126154e-11.\n",
      "\n",
      "Epoch 08303: ReduceLROnPlateau reducing learning rate to 3.819097850465969e-11.\n",
      "\n",
      "Epoch 08318: ReduceLROnPlateau reducing learning rate to 3.6281429249829245e-11.\n",
      "\n",
      "Epoch 08333: ReduceLROnPlateau reducing learning rate to 3.446735778733778e-11.\n",
      "\n",
      "Epoch 08348: ReduceLROnPlateau reducing learning rate to 3.2743991545958195e-11.\n",
      "\n",
      "Epoch 08363: ReduceLROnPlateau reducing learning rate to 3.1106791968660284e-11.\n",
      "\n",
      "Epoch 08378: ReduceLROnPlateau reducing learning rate to 2.955145121663616e-11.\n",
      "\n",
      "Epoch 08393: ReduceLROnPlateau reducing learning rate to 2.807387898540181e-11.\n",
      "\n",
      "Epoch 08408: ReduceLROnPlateau reducing learning rate to 2.66701843769368e-11.\n",
      "\n",
      "Epoch 08423: ReduceLROnPlateau reducing learning rate to 2.5336675899684247e-11.\n",
      "\n",
      "Epoch 08438: ReduceLROnPlateau reducing learning rate to 2.4069841692703207e-11.\n",
      "\n",
      "Epoch 08453: ReduceLROnPlateau reducing learning rate to 2.286634952566868e-11.\n",
      "\n",
      "Epoch 08468: ReduceLROnPlateau reducing learning rate to 2.1723031966985883e-11.\n",
      "\n",
      "Epoch 08483: ReduceLROnPlateau reducing learning rate to 2.0636879791841034e-11.\n",
      "\n",
      "Epoch 08498: ReduceLROnPlateau reducing learning rate to 1.9605035390252156e-11.\n",
      "\n",
      "Epoch 08513: ReduceLROnPlateau reducing learning rate to 1.8624782879145262e-11.\n",
      "\n",
      "Epoch 08528: ReduceLROnPlateau reducing learning rate to 1.7693543158392443e-11.\n",
      "\n",
      "Epoch 08543: ReduceLROnPlateau reducing learning rate to 1.680886567087536e-11.\n",
      "\n",
      "Epoch 08558: ReduceLROnPlateau reducing learning rate to 1.5968421810536036e-11.\n",
      "\n",
      "Epoch 08573: ReduceLROnPlateau reducing learning rate to 1.516999997841495e-11.\n",
      "\n",
      "Epoch 08588: ReduceLROnPlateau reducing learning rate to 1.4411500638689123e-11.\n",
      "\n",
      "Epoch 08603: ReduceLROnPlateau reducing learning rate to 1.3690925606754666e-11.\n",
      "\n",
      "Epoch 08618: ReduceLROnPlateau reducing learning rate to 1.3006379697214076e-11.\n",
      "\n",
      "Epoch 08633: ReduceLROnPlateau reducing learning rate to 1.235606083595242e-11.\n",
      "\n",
      "Epoch 08648: ReduceLROnPlateau reducing learning rate to 1.1738257588156386e-11.\n",
      "\n",
      "Epoch 08663: ReduceLROnPlateau reducing learning rate to 1.1151345038346028e-11.\n",
      "\n",
      "Epoch 08678: ReduceLROnPlateau reducing learning rate to 1.0593778198425551e-11.\n",
      "\n",
      "Epoch 08693: ReduceLROnPlateau reducing learning rate to 1.006408953570237e-11.\n",
      "\n",
      "Epoch 08708: ReduceLROnPlateau reducing learning rate to 9.560884852918838e-12.\n",
      "\n",
      "Epoch 08723: ReduceLROnPlateau reducing learning rate to 9.08284081627131e-12.\n",
      "\n",
      "Epoch 08738: ReduceLROnPlateau reducing learning rate to 8.628698363460919e-12.\n",
      "\n",
      "Epoch 08753: ReduceLROnPlateau reducing learning rate to 8.197263527687238e-12.\n",
      "\n",
      "Epoch 08768: ReduceLROnPlateau reducing learning rate to 7.787400021705414e-12.\n",
      "\n",
      "Epoch 08783: ReduceLROnPlateau reducing learning rate to 7.398030061819826e-12.\n",
      "\n",
      "Epoch 08798: ReduceLROnPlateau reducing learning rate to 7.028128599928518e-12.\n",
      "\n",
      "Epoch 08813: ReduceLROnPlateau reducing learning rate to 6.676722087532727e-12.\n",
      "\n",
      "Epoch 08828: ReduceLROnPlateau reducing learning rate to 6.342886003755932e-12.\n",
      "\n",
      "Epoch 08843: ReduceLROnPlateau reducing learning rate to 6.025741559369246e-12.\n",
      "\n",
      "Epoch 08858: ReduceLROnPlateau reducing learning rate to 5.7244544608009424e-12.\n",
      "\n",
      "Epoch 08873: ReduceLROnPlateau reducing learning rate to 5.438231614161848e-12.\n",
      "\n",
      "Epoch 08888: ReduceLROnPlateau reducing learning rate to 5.1663198892548666e-12.\n",
      "\n",
      "Epoch 08903: ReduceLROnPlateau reducing learning rate to 4.9080040595908535e-12.\n",
      "\n",
      "Epoch 08918: ReduceLROnPlateau reducing learning rate to 4.662603918410835e-12.\n",
      "\n",
      "Epoch 08933: ReduceLROnPlateau reducing learning rate to 4.429473866689182e-12.\n",
      "\n",
      "Epoch 08948: ReduceLROnPlateau reducing learning rate to 4.208000029155834e-12.\n",
      "\n",
      "Epoch 08963: ReduceLROnPlateau reducing learning rate to 3.997599842299471e-12.\n",
      "\n",
      "Epoch 08978: ReduceLROnPlateau reducing learning rate to 3.797719994383386e-12.\n",
      "\n",
      "Epoch 08993: ReduceLROnPlateau reducing learning rate to 3.607833953464534e-12.\n",
      "\n",
      "Epoch 09008: ReduceLROnPlateau reducing learning rate to 3.427442173391942e-12.\n",
      "\n",
      "Epoch 09023: ReduceLROnPlateau reducing learning rate to 3.256070033822583e-12.\n",
      "\n",
      "Epoch 09038: ReduceLROnPlateau reducing learning rate to 3.0932666042308986e-12.\n",
      "\n",
      "Epoch 09053: ReduceLROnPlateau reducing learning rate to 2.938603201919909e-12.\n",
      "\n",
      "Epoch 09068: ReduceLROnPlateau reducing learning rate to 2.79167298002439e-12.\n",
      "\n",
      "Epoch 09083: ReduceLROnPlateau reducing learning rate to 2.652089279523567e-12.\n",
      "\n",
      "Epoch 09098: ReduceLROnPlateau reducing learning rate to 2.5194848052474682e-12.\n",
      "\n",
      "Epoch 09113: ReduceLROnPlateau reducing learning rate to 2.3935105958848567e-12.\n",
      "\n",
      "Epoch 09128: ReduceLROnPlateau reducing learning rate to 2.2738349939911693e-12.\n",
      "\n",
      "Epoch 09143: ReduceLROnPlateau reducing learning rate to 2.1601432339916903e-12.\n",
      "\n",
      "Epoch 09158: ReduceLROnPlateau reducing learning rate to 2.0521360001926615e-12.\n",
      "\n",
      "Epoch 09173: ReduceLROnPlateau reducing learning rate to 1.9495292207828697e-12.\n",
      "\n",
      "Epoch 09188: ReduceLROnPlateau reducing learning rate to 1.8520528318431707e-12.\n",
      "\n",
      "Epoch 09203: ReduceLROnPlateau reducing learning rate to 1.75945015935125e-12.\n",
      "\n",
      "Epoch 09218: ReduceLROnPlateau reducing learning rate to 1.671477610184005e-12.\n",
      "\n",
      "Epoch 09233: ReduceLROnPlateau reducing learning rate to 1.5879037451246858e-12.\n",
      "\n",
      "Epoch 09248: ReduceLROnPlateau reducing learning rate to 1.5085085578684513e-12.\n",
      "\n",
      "Epoch 09263: ReduceLROnPlateau reducing learning rate to 1.433083166024751e-12.\n",
      "\n",
      "Epoch 09278: ReduceLROnPlateau reducing learning rate to 1.3614289871236722e-12.\n",
      "\n",
      "Epoch 09293: ReduceLROnPlateau reducing learning rate to 1.2933575326175283e-12.\n",
      "\n",
      "Epoch 09308: ReduceLROnPlateau reducing learning rate to 1.2286896868864138e-12.\n",
      "\n",
      "Epoch 09323: ReduceLROnPlateau reducing learning rate to 1.1672551922421726e-12.\n",
      "\n",
      "Epoch 09338: ReduceLROnPlateau reducing learning rate to 1.1088924429299844e-12.\n",
      "\n",
      "Epoch 09353: ReduceLROnPlateau reducing learning rate to 1.0534478671331282e-12.\n",
      "\n",
      "Epoch 09368: ReduceLROnPlateau reducing learning rate to 1.0007755149761544e-12.\n",
      "\n",
      "Epoch 09383: ReduceLROnPlateau reducing learning rate to 9.507367495272673e-13.\n",
      "\n",
      "Epoch 09398: ReduceLROnPlateau reducing learning rate to 9.031999378007055e-13.\n",
      "\n",
      "Epoch 09413: ReduceLROnPlateau reducing learning rate to 8.580399357607099e-13.\n",
      "\n",
      "Epoch 09428: ReduceLROnPlateau reducing learning rate to 8.151379338227141e-13.\n",
      "\n",
      "Epoch 09443: ReduceLROnPlateau reducing learning rate to 7.743810448565188e-13.\n",
      "\n",
      "Epoch 09458: ReduceLROnPlateau reducing learning rate to 7.35661995188673e-13.\n",
      "\n",
      "Epoch 09473: ReduceLROnPlateau reducing learning rate to 6.988789186040608e-13.\n",
      "\n",
      "Epoch 09488: ReduceLROnPlateau reducing learning rate to 6.639349958486792e-13.\n",
      "\n",
      "Epoch 09503: ReduceLROnPlateau reducing learning rate to 6.307382486312254e-13.\n",
      "\n",
      "Epoch 09518: ReduceLROnPlateau reducing learning rate to 5.99201333624684e-13.\n",
      "\n",
      "Epoch 09533: ReduceLROnPlateau reducing learning rate to 5.692412849683109e-13.\n",
      "\n",
      "Epoch 09548: ReduceLROnPlateau reducing learning rate to 5.407792052700144e-13.\n",
      "\n",
      "Epoch 09563: ReduceLROnPlateau reducing learning rate to 5.13740265606355e-13.\n",
      "\n",
      "Epoch 09578: ReduceLROnPlateau reducing learning rate to 4.880532420261166e-13.\n",
      "\n",
      "Epoch 09593: ReduceLROnPlateau reducing learning rate to 4.6365056704991e-13.\n",
      "\n",
      "Epoch 09608: ReduceLROnPlateau reducing learning rate to 4.4046802067255334e-13.\n",
      "\n",
      "Epoch 09623: ReduceLROnPlateau reducing learning rate to 4.1844462736386613e-13.\n",
      "\n",
      "Epoch 09638: ReduceLROnPlateau reducing learning rate to 3.97522398570653e-13.\n",
      "\n",
      "Epoch 09653: ReduceLROnPlateau reducing learning rate to 3.776462812171005e-13.\n",
      "\n",
      "Epoch 09668: ReduceLROnPlateau reducing learning rate to 3.587639774561661e-13.\n",
      "\n",
      "Epoch 09683: ReduceLROnPlateau reducing learning rate to 3.4082579017076856e-13.\n",
      "\n",
      "Epoch 09698: ReduceLROnPlateau reducing learning rate to 3.2378449422477974e-13.\n",
      "\n",
      "Epoch 09713: ReduceLROnPlateau reducing learning rate to 3.0759525921362007e-13.\n",
      "\n",
      "Epoch 09728: ReduceLROnPlateau reducing learning rate to 2.9221549496544903e-13.\n",
      "\n",
      "Epoch 09743: ReduceLROnPlateau reducing learning rate to 2.776047227921567e-13.\n",
      "\n",
      "Epoch 09758: ReduceLROnPlateau reducing learning rate to 2.637244982399596e-13.\n",
      "\n",
      "Epoch 09773: ReduceLROnPlateau reducing learning rate to 2.505382823403922e-13.\n",
      "\n",
      "Epoch 09788: ReduceLROnPlateau reducing learning rate to 2.380113643609023e-13.\n",
      "\n",
      "Epoch 09803: ReduceLROnPlateau reducing learning rate to 2.261107845554465e-13.\n",
      "\n",
      "Epoch 09818: ReduceLROnPlateau reducing learning rate to 2.148052440401841e-13.\n",
      "\n",
      "Epoch 09833: ReduceLROnPlateau reducing learning rate to 2.0406497604446952e-13.\n",
      "\n",
      "Epoch 09848: ReduceLROnPlateau reducing learning rate to 1.938617330359514e-13.\n",
      "\n",
      "Epoch 09863: ReduceLROnPlateau reducing learning rate to 1.8416864509666376e-13.\n",
      "\n",
      "Epoch 09878: ReduceLROnPlateau reducing learning rate to 1.749602070481252e-13.\n",
      "\n",
      "Epoch 09893: ReduceLROnPlateau reducing learning rate to 1.6621220120193424e-13.\n",
      "\n",
      "Epoch 09908: ReduceLROnPlateau reducing learning rate to 1.5790159436056271e-13.\n",
      "\n",
      "Epoch 09923: ReduceLROnPlateau reducing learning rate to 1.5000651206755442e-13.\n",
      "\n",
      "Epoch 09938: ReduceLROnPlateau reducing learning rate to 1.4250618710792175e-13.\n",
      "\n",
      "Epoch 09953: ReduceLROnPlateau reducing learning rate to 1.3538088225874093e-13.\n",
      "\n",
      "Epoch 09968: ReduceLROnPlateau reducing learning rate to 1.2861183878954892e-13.\n",
      "\n",
      "Epoch 09983: ReduceLROnPlateau reducing learning rate to 1.221812507125417e-13.\n",
      "\n",
      "Epoch 09998: ReduceLROnPlateau reducing learning rate to 1.160721875331696e-13.\n"
     ]
    }
   ],
   "source": [
    "result = run_model(\n",
    "          train_df_ = trainDf, dev_df_ = devDf,\n",
    "          lr_ = 0.001,\n",
    "          epo = 10000,\n",
    "          checkpoint_path='/boot/cp.best.ckpt'\n",
    "          )"
   ]
  },
  {
   "cell_type": "code",
   "execution_count": 22,
   "metadata": {
    "colab": {
     "base_uri": "https://localhost:8080/",
     "height": 282
    },
    "id": "lqL9IyWwDhF9",
    "outputId": "27d2bcc9-9501-4f22-85a4-f5071254de9c"
   },
   "outputs": [
    {
     "data": {
      "text/plain": [
       "Text(3732, 284.90309143066406, '234.90309143066406')"
      ]
     },
     "execution_count": 22,
     "metadata": {
      "tags": []
     },
     "output_type": "execute_result"
    },
    {
     "data": {
      "image/png": "[encoded data removed]",
      "text/plain": [
       "<Figure size 432x288 with 1 Axes>"
      ]
     },
     "metadata": {
      "needs_background": "light",
      "tags": []
     },
     "output_type": "display_data"
    }
   ],
   "source": [
    " ''' show the history of the current model '''\n",
    "train_rmse = np.array(result['history'].history['root_mean_squared_error'])\n",
    "dev_rmse = np.array(result['history'].history['val_root_mean_squared_error'])\n",
    "\n",
    "import matplotlib.pyplot as plt\n",
    "plt.figure()\n",
    "plt.plot(range(len(train_rmse)),train_rmse,'-')\n",
    "plt.plot(range(len(dev_rmse)),dev_rmse,'-')\n",
    "plt.plot(np.argmin(dev_rmse),np.min(dev_rmse),'r*')\n",
    "plt.text(np.argmin(dev_rmse)+50,np.min(dev_rmse)+50,str(np.min(dev_rmse)))"
   ]
  },
  {
   "cell_type": "code",
   "execution_count": 23,
   "metadata": {
    "colab": {
     "base_uri": "https://localhost:8080/",
     "height": 282
    },
    "id": "udmy6rc6DuyX",
    "outputId": "50df5fdf-8ccf-4bc3-f29a-ba1e53f51de8"
   },
   "outputs": [
    {
     "data": {
      "text/plain": [
       "Text(3681.7, 0.6141322374343872, '0.9141322374343872')"
      ]
     },
     "execution_count": 23,
     "metadata": {
      "tags": []
     },
     "output_type": "execute_result"
    },
    {
     "data": {
      "image/png": "[encoded data removed]",
      "text/plain": [
       "<Figure size 432x288 with 1 Axes>"
      ]
     },
     "metadata": {
      "needs_background": "light",
      "tags": []
     },
     "output_type": "display_data"
    }
   ],
   "source": [
    " ''' show the history of the current model '''\n",
    "R2 = np.array(result['history'].history['R2'])\n",
    "val_R2 = np.array(result['history'].history['val_R2'])\n",
    "\n",
    "import matplotlib.pyplot as plt\n",
    "plt.figure()\n",
    "plt.plot(range(len(R2)),R2,'-')\n",
    "plt.plot(range(len(val_R2)),val_R2,'-')\n",
    "plt.plot(np.argmax(val_R2),np.max(val_R2),'r*')\n",
    "plt.text(np.argmax(val_R2)-0.3,np.max(val_R2)-0.3,str(np.max(val_R2)))"
   ]
  },
  {
   "cell_type": "markdown",
   "metadata": {},
   "source": [
    "# validation"
   ]
  },
  {
   "cell_type": "code",
   "execution_count": 24,
   "metadata": {
    "id": "RxA_xYLgyp_e"
   },
   "outputs": [],
   "source": [
    "''' validation '''\n",
    "bestModel = result['bestModel']\n",
    "train_part,dev_part = result['train_dev_set']"
   ]
  },
  {
   "cell_type": "code",
   "execution_count": 25,
   "metadata": {
    "id": "1xyJxELpO3a9"
   },
   "outputs": [],
   "source": [
    "train_fea = train_part[:,:-1]\n",
    "train_tar = train_part[:,-1]\n",
    "dev_fea = dev_part[:,:-1]\n",
    "dev_tar = dev_part[:,-1]"
   ]
  },
  {
   "cell_type": "code",
   "execution_count": 28,
   "metadata": {
    "id": "CggJ1T7msRVw"
   },
   "outputs": [],
   "source": [
    "''' customizing metric R2 '''\n",
    "def R2(y_true, y_pred):\n",
    "  if type(y_true) == 'numpy.ndarray':\n",
    "    y_true = tf.constant(y_true)\n",
    "    y_pred = tf.constant(y_pred)\n",
    "  flat_ture = tf.reshape(y_true, [-1])\n",
    "  flat_prd = tf.reshape(y_pred, [-1])\n",
    "  RSS = tf.math.reduce_sum((tf.math.square(flat_ture - flat_prd)),axis=-1)\n",
    "  TSS = tf.math.reduce_sum(tf.math.square(flat_ture - tf.reduce_mean(flat_ture,axis=-1)))\n",
    "  return 1-RSS/TSS"
   ]
  },
  {
   "cell_type": "code",
   "execution_count": 29,
   "metadata": {
    "colab": {
     "base_uri": "https://localhost:8080/"
    },
    "id": "BjfKcwU_RIPE",
    "outputId": "e144341f-0693-4860-c4b1-9f5c264fa74d"
   },
   "outputs": [
    {
     "data": {
      "text/plain": [
       "<tf.Tensor: shape=(), dtype=float64, numpy=0.981055716085861>"
      ]
     },
     "execution_count": 29,
     "metadata": {
      "tags": []
     },
     "output_type": "execute_result"
    }
   ],
   "source": [
    "R2(train_tar.astype(float),bestModel.predict(train_fea).astype(float))"
   ]
  },
  {
   "cell_type": "code",
   "execution_count": 30,
   "metadata": {
    "colab": {
     "base_uri": "https://localhost:8080/"
    },
    "id": "SyTJxZ2-QBYN",
    "outputId": "2f55b267-4c2c-46cf-d4df-019c0438080f"
   },
   "outputs": [
    {
     "data": {
      "text/plain": [
       "<tf.Tensor: shape=(), dtype=float64, numpy=0.9141322563254624>"
      ]
     },
     "execution_count": 30,
     "metadata": {
      "tags": []
     },
     "output_type": "execute_result"
    }
   ],
   "source": [
    "R2(dev_tar.astype(float), bestModel.predict(dev_fea).astype(float))"
   ]
  },
  {
   "cell_type": "code",
   "execution_count": 31,
   "metadata": {
    "colab": {
     "base_uri": "https://localhost:8080/"
    },
    "id": "5T_bQJuVQIMV",
    "outputId": "9393828e-27f2-475f-ece2-f19096de1238"
   },
   "outputs": [
    {
     "data": {
      "text/plain": [
       "<tf.Tensor: shape=(), dtype=float64, numpy=0.9616386615914039>"
      ]
     },
     "execution_count": 31,
     "metadata": {
      "tags": []
     },
     "output_type": "execute_result"
    }
   ],
   "source": [
    "whole_fea = np.concatenate((train_fea,dev_fea))\n",
    "whole_tar = np.concatenate((train_tar,dev_tar))\n",
    "\n",
    "R2(whole_tar.astype(float), bestModel.predict(whole_fea).astype(float))"
   ]
  },
  {
   "cell_type": "code",
   "execution_count": 32,
   "metadata": {
    "colab": {
     "base_uri": "https://localhost:8080/",
     "height": 265
    },
    "id": "ZXYlvoMfQ0V0",
    "outputId": "5b2c8083-e58a-491b-d60c-91f3a6b78812"
   },
   "outputs": [
    {
     "data": {
      "image/png": "[encoded data removed]",
      "text/plain": [
       "<Figure size 432x288 with 1 Axes>"
      ]
     },
     "metadata": {
      "needs_background": "light",
      "tags": []
     },
     "output_type": "display_data"
    }
   ],
   "source": [
    "plt.figure()\n",
    "ax = plt.hist(whole_tar, bins=100, facecolor=\"blue\", edgecolor=\"black\", alpha=0.7)"
   ]
  },
  {
   "cell_type": "code",
   "execution_count": 33,
   "metadata": {
    "colab": {
     "base_uri": "https://localhost:8080/",
     "height": 265
    },
    "id": "dxySLMuJQ9Q7",
    "outputId": "e18e2dd1-6a12-4184-e751-26021253b619"
   },
   "outputs": [
    {
     "data": {
      "image/png": "[encoded data removed]",
      "text/plain": [
       "<Figure size 432x288 with 1 Axes>"
      ]
     },
     "metadata": {
      "needs_background": "light",
      "tags": []
     },
     "output_type": "display_data"
    }
   ],
   "source": [
    "plt.figure()\n",
    "ax = plt.hist( bestModel.predict(whole_fea).astype(float), bins=100, facecolor=\"blue\", edgecolor=\"black\", alpha=0.7)"
   ]
  },
  {
   "cell_type": "code",
   "execution_count": 34,
   "metadata": {
    "colab": {
     "base_uri": "https://localhost:8080/",
     "height": 282
    },
    "id": "5aOFA73DSVzl",
    "outputId": "85c7f94e-681c-46fc-a60d-3c640db47579",
    "scrolled": true
   },
   "outputs": [
    {
     "data": {
      "text/plain": [
       "<matplotlib.collections.PathCollection at 0x7f6428ddd470>"
      ]
     },
     "execution_count": 34,
     "metadata": {
      "tags": []
     },
     "output_type": "execute_result"
    },
    {
     "data": {
      "image/png": "[encoded data removed]",
      "text/plain": [
       "<Figure size 432x288 with 1 Axes>"
      ]
     },
     "metadata": {
      "needs_background": "light",
      "tags": []
     },
     "output_type": "display_data"
    }
   ],
   "source": [
    "plt.scatter(whole_tar,bestModel.predict(whole_fea).astype(float))"
   ]
  },
  {
   "cell_type": "markdown",
   "metadata": {},
   "source": [
    "# save results"
   ]
  },
  {
   "cell_type": "code",
   "execution_count": null,
   "metadata": {},
   "outputs": [],
   "source": [
    "''' save model and parameters '''\n",
    "result['bestModel'].save('bestModel.h5')\n",
    "pd.DataFrame(result['history'].history).to_csv('history.csv')\n",
    "np.save('train_arr.npy',result['train_dev_set'][0])\n",
    "np.save('dev_arr.npy',result['train_dev_set'][1])\n",
    "from joblib import dump, load\n",
    "dump(result['normalizer'],'scaler.joblib')"
   ]
  }
 ],
 "metadata": {
  "accelerator": "GPU",
  "colab": {
   "collapsed_sections": [],
   "machine_shape": "hm",
   "name": "FUCNN_onFD1.ipynb",
   "provenance": []
  },
  "kernelspec": {
   "display_name": "Python 3",
   "language": "python",
   "name": "python3"
  },
  "language_info": {
   "codemirror_mode": {
    "name": "ipython",
    "version": 3
   },
   "file_extension": ".py",
   "mimetype": "text/x-python",
   "name": "python",
   "nbconvert_exporter": "python",
   "pygments_lexer": "ipython3",
   "version": "3.7.4"
  }
 },
 "nbformat": 4,
 "nbformat_minor": 1
}
