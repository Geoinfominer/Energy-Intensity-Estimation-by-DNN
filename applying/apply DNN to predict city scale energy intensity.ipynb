{
 "cells": [
  {
   "cell_type": "markdown",
   "metadata": {},
   "source": [
    "# this notebook was initially run on Google Colab"
   ]
  },
  {
   "cell_type": "code",
   "execution_count": 1,
   "metadata": {
    "colab": {
     "base_uri": "https://localhost:8080/"
    },
    "executionInfo": {
     "elapsed": 1126,
     "status": "ok",
     "timestamp": 1615876411256,
     "user": {
      "displayName": "Jinyu Guo",
      "photoUrl": "",
      "userId": "12189902659117028350"
     },
     "user_tz": -480
    },
    "id": "VQSF3Jx8Dno8",
    "outputId": "f5c1a10e-2565-4c93-95c5-4dc9d0435393"
   },
   "outputs": [
    {
     "name": "stdout",
     "output_type": "stream",
     "text": [
      "Tue Mar 16 06:33:28 2021       \n",
      "+-----------------------------------------------------------------------------+\n",
      "| NVIDIA-SMI 460.56       Driver Version: 460.32.03    CUDA Version: 11.2     |\n",
      "|-------------------------------+----------------------+----------------------+\n",
      "| GPU  Name        Persistence-M| Bus-Id        Disp.A | Volatile Uncorr. ECC |\n",
      "| Fan  Temp  Perf  Pwr:Usage/Cap|         Memory-Usage | GPU-Util  Compute M. |\n",
      "|                               |                      |               MIG M. |\n",
      "|===============================+======================+======================|\n",
      "|   0  Tesla V100-SXM2...  Off  | 00000000:00:04.0 Off |                    0 |\n",
      "| N/A   35C    P0    25W / 300W |      0MiB / 16160MiB |      0%      Default |\n",
      "|                               |                      |                  N/A |\n",
      "+-------------------------------+----------------------+----------------------+\n",
      "                                                                               \n",
      "+-----------------------------------------------------------------------------+\n",
      "| Processes:                                                                  |\n",
      "|  GPU   GI   CI        PID   Type   Process name                  GPU Memory |\n",
      "|        ID   ID                                                   Usage      |\n",
      "|=============================================================================|\n",
      "|  No running processes found                                                 |\n",
      "+-----------------------------------------------------------------------------+\n"
     ]
    }
   ],
   "source": [
    "gpu_info = !nvidia-smi\n",
    "gpu_info = '\\n'.join(gpu_info)\n",
    "if gpu_info.find('failed') >= 0:\n",
    "  print('Select the Runtime > \"Change runtime type\" menu to enable a GPU accelerator, ')\n",
    "  print('and then re-execute this cell.')\n",
    "else:\n",
    "  print(gpu_info)"
   ]
  },
  {
   "cell_type": "markdown",
   "metadata": {},
   "source": [
    "# import libraries"
   ]
  },
  {
   "cell_type": "code",
   "execution_count": 3,
   "metadata": {
    "executionInfo": {
     "elapsed": 2228,
     "status": "ok",
     "timestamp": 1615880026589,
     "user": {
      "displayName": "Jinyu Guo",
      "photoUrl": "",
      "userId": "12189902659117028350"
     },
     "user_tz": -480
    },
    "id": "NX7zBhA8Dt0-"
   },
   "outputs": [],
   "source": [
    "'''\n",
    "import libraries\n",
    "'''\n",
    "import pandas as pd\n",
    "import numpy as np\n",
    "import matplotlib.pyplot as plt\n",
    "import tensorflow as tf\n",
    "from tensorflow import keras\n",
    "from keras.models import Model\n",
    "from tensorflow.keras.optimizers import Adam\n",
    "import os\n",
    "import random\n",
    "random.seed(0)\n",
    "tf.random.set_seed(0)\n",
    "np.random.seed(0)\n",
    "os.environ['PYTHONHASHSEED'] = str(0)"
   ]
  },
  {
   "cell_type": "markdown",
   "metadata": {},
   "source": [
    "# define variables"
   ]
  },
  {
   "cell_type": "code",
   "execution_count": 5,
   "metadata": {
    "executionInfo": {
     "elapsed": 1011,
     "status": "ok",
     "timestamp": 1615876451528,
     "user": {
      "displayName": "Jinyu Guo",
      "photoUrl": "",
      "userId": "12189902659117028350"
     },
     "user_tz": -480
    },
    "id": "2XKmhNMvD_pD"
   },
   "outputs": [],
   "source": [
    "features = ['lucc_0','lucc_1','lucc_2','lucc_3','lucc_4','lucc_5','b1','b2','b3','b4','b5','b6','b7','lst','ndvi','ntl','elevation','entropy']\n",
    "\n",
    "years = list(range(2001,2018))\n",
    "\n",
    "dir_csv = '/city_scale_features-one_year_one_table/'"
   ]
  },
  {
   "cell_type": "markdown",
   "metadata": {},
   "source": [
    "# load city scale feature dataset"
   ]
  },
  {
   "cell_type": "code",
   "execution_count": 6,
   "metadata": {
    "executionInfo": {
     "elapsed": 1058,
     "status": "ok",
     "timestamp": 1615876455049,
     "user": {
      "displayName": "Jinyu Guo",
      "photoUrl": "",
      "userId": "12189902659117028350"
     },
     "user_tz": -480
    },
    "id": "5nKgU5y_ECI8"
   },
   "outputs": [],
   "source": [
    "''' load csv files '''\n",
    "\n",
    "dict_df = {}\n",
    "for year in range(2001,2018):\n",
    "  cur_df = pd.read_csv(dir_csv + str(year) + '.csv')\n",
    "  cur_df = cur_df[['name'] + features]\n",
    "  dict_df[year] = cur_df"
   ]
  },
  {
   "cell_type": "code",
   "execution_count": 7,
   "metadata": {
    "executionInfo": {
     "elapsed": 1059,
     "status": "ok",
     "timestamp": 1615876457438,
     "user": {
      "displayName": "Jinyu Guo",
      "photoUrl": "",
      "userId": "12189902659117028350"
     },
     "user_tz": -480
    },
    "id": "iswLpBW-Etr2"
   },
   "outputs": [],
   "source": [
    "''' convert into numpy '''\n",
    "dict_arr = {}\n",
    "for year in range(2001,2018):\n",
    "  cur_arr = dict_df[year][features].to_numpy()\n",
    "  dict_arr[year] = cur_arr"
   ]
  },
  {
   "cell_type": "markdown",
   "metadata": {
    "id": "U4fXMVYsEmQx"
   },
   "source": [
    "# predict city scale energy intensity"
   ]
  },
  {
   "cell_type": "code",
   "execution_count": 8,
   "metadata": {
    "executionInfo": {
     "elapsed": 1080,
     "status": "ok",
     "timestamp": 1615876468709,
     "user": {
      "displayName": "Jinyu Guo",
      "photoUrl": "",
      "userId": "12189902659117028350"
     },
     "user_tz": -480
    },
    "id": "V3m_1zMxKK6-"
   },
   "outputs": [],
   "source": [
    "''' customizing metric R2 '''\n",
    "def R2(y_true, y_pred):\n",
    "  flat_ture = tf.reshape(y_true, [-1])\n",
    "  flat_prd = tf.reshape(y_pred, [-1])\n",
    "  RSS = tf.math.reduce_sum((tf.math.square(flat_ture - flat_prd)),axis=-1)\n",
    "  TSS = tf.math.reduce_sum(tf.math.square(flat_ture - tf.reduce_mean(flat_ture,axis=-1)))\n",
    "  return 1-RSS/TSS\n",
    "\n",
    "\n",
    "def singleModelInference(url_model,url_normalizer,dict_arr_):\n",
    "  # load model\n",
    "  best_model = keras.models.load_model(url_model,custom_objects={'R2':R2},compile=False)\n",
    "  opt = tf.keras.optimizers.Adam(lr=0.001,clipvalue=0.5) \n",
    "  best_model.compile(optimizer=opt, loss='mean_squared_error', metrics=[tf.keras.metrics.RootMeanSquaredError(),R2])\n",
    "  # load normalizer\n",
    "  import joblib\n",
    "  normalizer = joblib.load(filename=url_normalizer)\n",
    "\n",
    "  dict_preds = {}\n",
    "  for year in range(2001,2018):\n",
    "    # normalize\n",
    "    inputs = normalizer.transform(dict_arr_[year])\n",
    "    # inference\n",
    "    cur_pred = best_model.predict(inputs)\n",
    "    dict_preds[year] = cur_pred\n",
    "  \n",
    "  return dict_preds"
   ]
  },
  {
   "cell_type": "code",
   "execution_count": 9,
   "metadata": {
    "executionInfo": {
     "elapsed": 1025,
     "status": "ok",
     "timestamp": 1615876471167,
     "user": {
      "displayName": "Jinyu Guo",
      "photoUrl": "",
      "userId": "12189902659117028350"
     },
     "user_tz": -480
    },
    "id": "FbG0HjBBGVme"
   },
   "outputs": [],
   "source": [
    "def ensemblePredict(dict_arr_):\n",
    "  # dir_models\n",
    "  dir_model0 = '/training and testing/DNN0/bestModel.h5'\n",
    "  dir_model1 = '/training and testing/DNN1/bestModel.h5'\n",
    "  dir_model2 = '/training and testing/DNN2/bestModel.h5'\n",
    "  dir_model3 = '/training and testing/DNN3/bestModel.h5'\n",
    "  # url_normalizers\n",
    "  dir_normalizer0 = '/training and testing/DNN0/scaler.joblib'\n",
    "  dir_normalizer1 = '/training and testing/DNN1/scaler.joblib'\n",
    "  dir_normalizer2 = '/training and testing/DNN2/scaler.joblib'\n",
    "  dir_normalizer3 = '/training and testing/DNN3/scaler.joblib'\n",
    "  # infenrecing of each model\n",
    "  dict_preds0 = singleModelInference(dir_model0,dir_normalizer0,dict_arr_)\n",
    "  dict_preds1 = singleModelInference(dir_model1,dir_normalizer1,dict_arr_)\n",
    "  dict_preds2 = singleModelInference(dir_model2,dir_normalizer2,dict_arr_)\n",
    "  dict_preds3 = singleModelInference(dir_model3,dir_normalizer3,dict_arr_)\n",
    "\n",
    "  # average output\n",
    "  dict_predsFinnal = {}\n",
    "  for y in years:\n",
    "    dict_predsFinnal[y] = (dict_preds0[y] + dict_preds1[y] + dict_preds2[y] + dict_preds3[y]) / 4.\n",
    "  \n",
    "  return dict_predsFinnal"
   ]
  },
  {
   "cell_type": "code",
   "execution_count": 19,
   "metadata": {
    "executionInfo": {
     "elapsed": 5695,
     "status": "ok",
     "timestamp": 1615876565377,
     "user": {
      "displayName": "Jinyu Guo",
      "photoUrl": "",
      "userId": "12189902659117028350"
     },
     "user_tz": -480
    },
    "id": "sfJ6XeLgEtp2"
   },
   "outputs": [],
   "source": [
    "dict_preds = ensemblePredict(dict_arr)"
   ]
  },
  {
   "cell_type": "markdown",
   "metadata": {
    "id": "BzvZQ23MEuDG"
   },
   "source": [
    "# output"
   ]
  },
  {
   "cell_type": "code",
   "execution_count": 22,
   "metadata": {
    "executionInfo": {
     "elapsed": 990,
     "status": "ok",
     "timestamp": 1615876574798,
     "user": {
      "displayName": "Jinyu Guo",
      "photoUrl": "",
      "userId": "12189902659117028350"
     },
     "user_tz": -480
    },
    "id": "I7ixhnCGUcyT"
   },
   "outputs": [],
   "source": [
    "''' conver numpy to pandas '''\n",
    "for year in range(2001,2018):\n",
    "  dict_preds[year] = dict_preds[year][:,0]"
   ]
  },
  {
   "cell_type": "code",
   "execution_count": 23,
   "metadata": {
    "colab": {
     "base_uri": "https://localhost:8080/",
     "height": 422
    },
    "executionInfo": {
     "elapsed": 960,
     "status": "ok",
     "timestamp": 1615876576908,
     "user": {
      "displayName": "Jinyu Guo",
      "photoUrl": "",
      "userId": "12189902659117028350"
     },
     "user_tz": -480
    },
    "id": "QssPVFcaYOts",
    "outputId": "0e443148-2976-4b9f-fb16-f0143505fcb9"
   },
   "outputs": [
    {
     "data": {
      "text/html": [
       "<div>\n",
       "<style scoped>\n",
       "    .dataframe tbody tr th:only-of-type {\n",
       "        vertical-align: middle;\n",
       "    }\n",
       "\n",
       "    .dataframe tbody tr th {\n",
       "        vertical-align: top;\n",
       "    }\n",
       "\n",
       "    .dataframe thead th {\n",
       "        text-align: right;\n",
       "    }\n",
       "</style>\n",
       "<table border=\"1\" class=\"dataframe\">\n",
       "  <thead>\n",
       "    <tr style=\"text-align: right;\">\n",
       "      <th></th>\n",
       "      <th>name</th>\n",
       "      <th>2001</th>\n",
       "      <th>2002</th>\n",
       "      <th>2003</th>\n",
       "      <th>2004</th>\n",
       "      <th>2005</th>\n",
       "      <th>2006</th>\n",
       "      <th>2007</th>\n",
       "      <th>2008</th>\n",
       "      <th>2009</th>\n",
       "      <th>2010</th>\n",
       "      <th>2011</th>\n",
       "      <th>2012</th>\n",
       "      <th>2013</th>\n",
       "      <th>2014</th>\n",
       "      <th>2015</th>\n",
       "      <th>2016</th>\n",
       "      <th>2017</th>\n",
       "    </tr>\n",
       "  </thead>\n",
       "  <tbody>\n",
       "    <tr>\n",
       "      <th>0</th>\n",
       "      <td>122city</td>\n",
       "      <td>4641.377441</td>\n",
       "      <td>4715.981445</td>\n",
       "      <td>4676.191895</td>\n",
       "      <td>4435.705078</td>\n",
       "      <td>4085.680664</td>\n",
       "      <td>4473.245605</td>\n",
       "      <td>4524.135254</td>\n",
       "      <td>4248.649902</td>\n",
       "      <td>4226.234863</td>\n",
       "      <td>4323.723633</td>\n",
       "      <td>4281.814453</td>\n",
       "      <td>3967.821289</td>\n",
       "      <td>4165.224609</td>\n",
       "      <td>4121.303223</td>\n",
       "      <td>4125.276367</td>\n",
       "      <td>4037.898926</td>\n",
       "      <td>3940.208984</td>\n",
       "    </tr>\n",
       "    <tr>\n",
       "      <th>1</th>\n",
       "      <td>089city</td>\n",
       "      <td>4108.035645</td>\n",
       "      <td>4293.618164</td>\n",
       "      <td>4316.521484</td>\n",
       "      <td>4194.353027</td>\n",
       "      <td>3938.815430</td>\n",
       "      <td>4204.531738</td>\n",
       "      <td>4183.413086</td>\n",
       "      <td>3994.414307</td>\n",
       "      <td>3884.289062</td>\n",
       "      <td>4191.432617</td>\n",
       "      <td>4048.480957</td>\n",
       "      <td>3881.214844</td>\n",
       "      <td>3986.867188</td>\n",
       "      <td>3929.059082</td>\n",
       "      <td>4162.958496</td>\n",
       "      <td>4125.549805</td>\n",
       "      <td>3884.514648</td>\n",
       "    </tr>\n",
       "    <tr>\n",
       "      <th>2</th>\n",
       "      <td>092city</td>\n",
       "      <td>3591.889160</td>\n",
       "      <td>3216.222168</td>\n",
       "      <td>3233.633545</td>\n",
       "      <td>3031.963379</td>\n",
       "      <td>2887.667480</td>\n",
       "      <td>3022.610596</td>\n",
       "      <td>2976.979248</td>\n",
       "      <td>2948.052490</td>\n",
       "      <td>2907.799805</td>\n",
       "      <td>2538.403320</td>\n",
       "      <td>2656.169922</td>\n",
       "      <td>2727.394043</td>\n",
       "      <td>2789.165771</td>\n",
       "      <td>2498.836426</td>\n",
       "      <td>2521.938477</td>\n",
       "      <td>2681.987793</td>\n",
       "      <td>2540.376953</td>\n",
       "    </tr>\n",
       "    <tr>\n",
       "      <th>3</th>\n",
       "      <td>093city</td>\n",
       "      <td>5119.806152</td>\n",
       "      <td>4929.093750</td>\n",
       "      <td>4822.670898</td>\n",
       "      <td>4732.750000</td>\n",
       "      <td>4512.948730</td>\n",
       "      <td>4696.941406</td>\n",
       "      <td>4304.455078</td>\n",
       "      <td>4097.383301</td>\n",
       "      <td>3778.682129</td>\n",
       "      <td>3380.828613</td>\n",
       "      <td>3476.225586</td>\n",
       "      <td>3291.948730</td>\n",
       "      <td>3450.280762</td>\n",
       "      <td>3143.866699</td>\n",
       "      <td>3385.822998</td>\n",
       "      <td>3237.119141</td>\n",
       "      <td>3067.582275</td>\n",
       "    </tr>\n",
       "    <tr>\n",
       "      <th>4</th>\n",
       "      <td>095city</td>\n",
       "      <td>3830.513428</td>\n",
       "      <td>3532.358887</td>\n",
       "      <td>3733.147461</td>\n",
       "      <td>3544.839844</td>\n",
       "      <td>3430.377930</td>\n",
       "      <td>3744.206299</td>\n",
       "      <td>3554.330078</td>\n",
       "      <td>3450.403076</td>\n",
       "      <td>3419.483887</td>\n",
       "      <td>3347.188232</td>\n",
       "      <td>3339.176025</td>\n",
       "      <td>2925.209717</td>\n",
       "      <td>3277.431641</td>\n",
       "      <td>3326.217285</td>\n",
       "      <td>3415.988770</td>\n",
       "      <td>3307.195557</td>\n",
       "      <td>3129.931152</td>\n",
       "    </tr>\n",
       "    <tr>\n",
       "      <th>...</th>\n",
       "      <td>...</td>\n",
       "      <td>...</td>\n",
       "      <td>...</td>\n",
       "      <td>...</td>\n",
       "      <td>...</td>\n",
       "      <td>...</td>\n",
       "      <td>...</td>\n",
       "      <td>...</td>\n",
       "      <td>...</td>\n",
       "      <td>...</td>\n",
       "      <td>...</td>\n",
       "      <td>...</td>\n",
       "      <td>...</td>\n",
       "      <td>...</td>\n",
       "      <td>...</td>\n",
       "      <td>...</td>\n",
       "      <td>...</td>\n",
       "      <td>...</td>\n",
       "    </tr>\n",
       "    <tr>\n",
       "      <th>389</th>\n",
       "      <td>103city</td>\n",
       "      <td>2346.158691</td>\n",
       "      <td>1603.075073</td>\n",
       "      <td>1666.799805</td>\n",
       "      <td>1621.692139</td>\n",
       "      <td>2206.930176</td>\n",
       "      <td>1759.777588</td>\n",
       "      <td>1213.828125</td>\n",
       "      <td>1235.842285</td>\n",
       "      <td>1199.266479</td>\n",
       "      <td>1083.387695</td>\n",
       "      <td>953.910339</td>\n",
       "      <td>1391.345215</td>\n",
       "      <td>1083.267334</td>\n",
       "      <td>831.005981</td>\n",
       "      <td>951.608398</td>\n",
       "      <td>972.187561</td>\n",
       "      <td>929.560791</td>\n",
       "    </tr>\n",
       "    <tr>\n",
       "      <th>390</th>\n",
       "      <td>106city</td>\n",
       "      <td>1208.289062</td>\n",
       "      <td>1023.191711</td>\n",
       "      <td>851.433777</td>\n",
       "      <td>872.455750</td>\n",
       "      <td>1093.376221</td>\n",
       "      <td>842.870605</td>\n",
       "      <td>741.678589</td>\n",
       "      <td>787.947510</td>\n",
       "      <td>809.385071</td>\n",
       "      <td>674.455688</td>\n",
       "      <td>684.029419</td>\n",
       "      <td>775.971191</td>\n",
       "      <td>622.421204</td>\n",
       "      <td>565.555542</td>\n",
       "      <td>489.194824</td>\n",
       "      <td>522.902954</td>\n",
       "      <td>487.471161</td>\n",
       "    </tr>\n",
       "    <tr>\n",
       "      <th>391</th>\n",
       "      <td>291city</td>\n",
       "      <td>907.683105</td>\n",
       "      <td>878.957031</td>\n",
       "      <td>837.123230</td>\n",
       "      <td>919.134277</td>\n",
       "      <td>774.843628</td>\n",
       "      <td>745.713806</td>\n",
       "      <td>742.649536</td>\n",
       "      <td>709.769226</td>\n",
       "      <td>663.787109</td>\n",
       "      <td>606.382385</td>\n",
       "      <td>659.468079</td>\n",
       "      <td>650.920532</td>\n",
       "      <td>563.377319</td>\n",
       "      <td>512.389587</td>\n",
       "      <td>536.430969</td>\n",
       "      <td>554.214294</td>\n",
       "      <td>508.509003</td>\n",
       "    </tr>\n",
       "    <tr>\n",
       "      <th>392</th>\n",
       "      <td>338city</td>\n",
       "      <td>1106.755249</td>\n",
       "      <td>1163.765381</td>\n",
       "      <td>1088.090942</td>\n",
       "      <td>1231.385010</td>\n",
       "      <td>1289.726562</td>\n",
       "      <td>1055.654541</td>\n",
       "      <td>941.722168</td>\n",
       "      <td>834.930969</td>\n",
       "      <td>784.730286</td>\n",
       "      <td>654.507935</td>\n",
       "      <td>650.150269</td>\n",
       "      <td>713.436584</td>\n",
       "      <td>545.314819</td>\n",
       "      <td>431.016541</td>\n",
       "      <td>455.120544</td>\n",
       "      <td>432.165405</td>\n",
       "      <td>345.874847</td>\n",
       "    </tr>\n",
       "    <tr>\n",
       "      <th>393</th>\n",
       "      <td>011city</td>\n",
       "      <td>3776.792969</td>\n",
       "      <td>3484.999512</td>\n",
       "      <td>3113.501465</td>\n",
       "      <td>3045.115234</td>\n",
       "      <td>2639.952148</td>\n",
       "      <td>2520.749268</td>\n",
       "      <td>2313.209961</td>\n",
       "      <td>2221.906250</td>\n",
       "      <td>2114.860107</td>\n",
       "      <td>2313.980469</td>\n",
       "      <td>1926.910889</td>\n",
       "      <td>2004.913452</td>\n",
       "      <td>1737.720215</td>\n",
       "      <td>1731.040894</td>\n",
       "      <td>1719.059570</td>\n",
       "      <td>1419.368408</td>\n",
       "      <td>1350.904785</td>\n",
       "    </tr>\n",
       "  </tbody>\n",
       "</table>\n",
       "<p>394 rows × 18 columns</p>\n",
       "</div>"
      ],
      "text/plain": [
       "        name         2001         2002  ...         2015         2016         2017\n",
       "0    122city  4641.377441  4715.981445  ...  4125.276367  4037.898926  3940.208984\n",
       "1    089city  4108.035645  4293.618164  ...  4162.958496  4125.549805  3884.514648\n",
       "2    092city  3591.889160  3216.222168  ...  2521.938477  2681.987793  2540.376953\n",
       "3    093city  5119.806152  4929.093750  ...  3385.822998  3237.119141  3067.582275\n",
       "4    095city  3830.513428  3532.358887  ...  3415.988770  3307.195557  3129.931152\n",
       "..       ...          ...          ...  ...          ...          ...          ...\n",
       "389  103city  2346.158691  1603.075073  ...   951.608398   972.187561   929.560791\n",
       "390  106city  1208.289062  1023.191711  ...   489.194824   522.902954   487.471161\n",
       "391  291city   907.683105   878.957031  ...   536.430969   554.214294   508.509003\n",
       "392  338city  1106.755249  1163.765381  ...   455.120544   432.165405   345.874847\n",
       "393  011city  3776.792969  3484.999512  ...  1719.059570  1419.368408  1350.904785\n",
       "\n",
       "[394 rows x 18 columns]"
      ]
     },
     "execution_count": 23,
     "metadata": {
      "tags": []
     },
     "output_type": "execute_result"
    }
   ],
   "source": [
    "df_preds = pd.DataFrame(dict_preds)\n",
    "df_preds['name'] = cur_df['name']\n",
    "df_preds = df_preds[['name']+[y for y in range(2001,2018)]]\n",
    "df_preds"
   ]
  },
  {
   "cell_type": "code",
   "execution_count": 24,
   "metadata": {
    "executionInfo": {
     "elapsed": 845,
     "status": "ok",
     "timestamp": 1615876646802,
     "user": {
      "displayName": "Jinyu Guo",
      "photoUrl": "",
      "userId": "12189902659117028350"
     },
     "user_tz": -480
    },
    "id": "Vp1pdrquUc0o"
   },
   "outputs": [],
   "source": [
    "df_preds.to_csv('city scale energy intensity.csv')"
   ]
  }
 ],
 "metadata": {
  "accelerator": "GPU",
  "colab": {
   "authorship_tag": "ABX9TyPfIvY7M7KIMyqBDUtE59sx",
   "collapsed_sections": [],
   "machine_shape": "hm",
   "name": "FUCNN_inference.ipynb",
   "provenance": []
  },
  "kernelspec": {
   "display_name": "Python 3",
   "language": "python",
   "name": "python3"
  },
  "language_info": {
   "codemirror_mode": {
    "name": "ipython",
    "version": 3
   },
   "file_extension": ".py",
   "mimetype": "text/x-python",
   "name": "python",
   "nbconvert_exporter": "python",
   "pygments_lexer": "ipython3",
   "version": "3.7.4"
  }
 },
 "nbformat": 4,
 "nbformat_minor": 1
}
